{
 "cells": [
  {
   "cell_type": "markdown",
   "id": "56027208",
   "metadata": {},
   "source": [
    "Conjuntos e seus métodos "
   ]
  },
  {
   "cell_type": "code",
   "execution_count": 12,
   "id": "0992da0e",
   "metadata": {},
   "outputs": [
    {
     "data": {
      "text/plain": [
       "{1, 2, 3, 4, 5, 6, 9}"
      ]
     },
     "execution_count": 12,
     "metadata": {},
     "output_type": "execute_result"
    }
   ],
   "source": [
    "# set: Conjuntos\n",
    "\n",
    "a = {1, 2, 3, 4, 5, 6}\n",
    "a\n",
    "b = {1, 2, 2, 1, 2, 1}\n",
    "b\n",
    "a.add(9)\n",
    "a\n"
   ]
  },
  {
   "cell_type": "code",
   "execution_count": 13,
   "id": "b38fab77",
   "metadata": {},
   "outputs": [
    {
     "name": "stdout",
     "output_type": "stream",
     "text": [
      "1\n",
      "2\n",
      "3\n",
      "4\n",
      "5\n"
     ]
    }
   ],
   "source": [
    "numeros = [1, 2, 3, 4, 5, 2, 4, 5]\n",
    "numeros_unicos = list(set(numeros))\n",
    "numeros_unicos\n",
    "\n",
    "# Não é possível pegar o index de um conjunto\n",
    "# numeros[0] não funciona\n",
    "\n",
    "for numero in numeros_unicos:\n",
    "    print(numero)"
   ]
  },
  {
   "cell_type": "code",
   "execution_count": null,
   "id": "be8f9977",
   "metadata": {},
   "outputs": [
    {
     "data": {
      "text/plain": [
       "{1, 2, 3, 4, 5, 6}"
      ]
     },
     "execution_count": 14,
     "metadata": {},
     "output_type": "execute_result"
    }
   ],
   "source": [
    "# União de conjuntos\n",
    "a = {3, 4, 5, 6}\n",
    "b = {1, 2, 2, 1, 2, 1,}\n",
    "a.union(b)"
   ]
  },
  {
   "cell_type": "code",
   "execution_count": null,
   "id": "92334d57",
   "metadata": {},
   "outputs": [
    {
     "data": {
      "text/plain": [
       "{3, 4}"
      ]
     },
     "execution_count": 15,
     "metadata": {},
     "output_type": "execute_result"
    }
   ],
   "source": [
    "# Elementos comuns \n",
    "a = {3, 4, 5, 6}\n",
    "b = {1, 2, 3, 4}\n",
    "a.intersection(b)"
   ]
  },
  {
   "cell_type": "code",
   "execution_count": null,
   "id": "a96e38ff",
   "metadata": {},
   "outputs": [
    {
     "data": {
      "text/plain": [
       "{1, 2}"
      ]
     },
     "execution_count": 17,
     "metadata": {},
     "output_type": "execute_result"
    }
   ],
   "source": [
    "# Elementos diferentes (pegando somente o que sobra do primeiro conjunto informado)\n",
    "a = {3, 4, 5, 6}\n",
    "b = {1, 2, 3, 4}\n",
    "a.difference(b)\n",
    "b.difference(a)"
   ]
  },
  {
   "cell_type": "code",
   "execution_count": 18,
   "id": "309ffa1e",
   "metadata": {},
   "outputs": [
    {
     "data": {
      "text/plain": [
       "{1, 2, 5, 6}"
      ]
     },
     "execution_count": 18,
     "metadata": {},
     "output_type": "execute_result"
    }
   ],
   "source": [
    "# Elementos diferentes \n",
    "a = {3, 4, 5, 6}\n",
    "b = {1, 2, 3, 4}\n",
    "a.symmetric_difference(b)"
   ]
  },
  {
   "cell_type": "code",
   "execution_count": 25,
   "id": "7eb34df0",
   "metadata": {},
   "outputs": [
    {
     "name": "stdout",
     "output_type": "stream",
     "text": [
      "3.98 μs ± 49.2 ns per loop (mean ± std. dev. of 7 runs, 100,000 loops each)\n"
     ]
    }
   ],
   "source": [
    "numeros = list(range(1000))\n",
    "numeros\n",
    "%timeit 500 in numeros"
   ]
  },
  {
   "cell_type": "code",
   "execution_count": 28,
   "id": "ab703c5e",
   "metadata": {},
   "outputs": [
    {
     "name": "stdout",
     "output_type": "stream",
     "text": [
      "40.7 ns ± 2.48 ns per loop (mean ± std. dev. of 7 runs, 10,000,000 loops each)\n"
     ]
    }
   ],
   "source": [
    "conjunto_numeros = set(list(range(1000)))\n",
    "%timeit 500 in conjunto_numeros"
   ]
  },
  {
   "cell_type": "markdown",
   "id": "e2bbc997",
   "metadata": {},
   "source": [
    "Compreensão de lista"
   ]
  },
  {
   "cell_type": "code",
   "execution_count": 1,
   "id": "4402a997",
   "metadata": {},
   "outputs": [
    {
     "data": {
      "text/plain": [
       "[6, 7, 8, 9]"
      ]
     },
     "execution_count": 1,
     "metadata": {},
     "output_type": "execute_result"
    }
   ],
   "source": [
    "valores = list(range(10))\n",
    "maiores_que_cinco = list()\n",
    "for valor in valores:\n",
    "    if valor > 5:\n",
    "        maiores_que_cinco.append(valor)\n",
    "maiores_que_cinco"
   ]
  },
  {
   "cell_type": "code",
   "execution_count": 3,
   "id": "e6b7c89a",
   "metadata": {},
   "outputs": [
    {
     "data": {
      "text/plain": [
       "[6, 7, 8, 9, 10, 11, 12, 13, 14]"
      ]
     },
     "execution_count": 3,
     "metadata": {},
     "output_type": "execute_result"
    }
   ],
   "source": [
    "#NOVA_LISTA = [RESULTADO para cada ELEMENTO EM SEQUÊNCIA se CONDIÇÃO]\n",
    "\n",
    "'''\n",
    "    NOVA_LISTA = []\n",
    "    para cada ELEMENTO em SEQUÊNCIA:\n",
    "        se CONDIÇÃO:\n",
    "            RESULTADO entra em NOVA_LISTA\n",
    "\n",
    "'''\n",
    "valores = list(range(15))\n",
    "maiores_que_cinco = [valor for valor in valores if valor > 5]\n",
    "maiores_que_cinco\n",
    " "
   ]
  },
  {
   "cell_type": "code",
   "execution_count": 4,
   "id": "13c9d70c",
   "metadata": {},
   "outputs": [
    {
     "data": {
      "text/plain": [
       "[8, 9, 10, 11, 12, 13, 14, 15, 16]"
      ]
     },
     "execution_count": 4,
     "metadata": {},
     "output_type": "execute_result"
    }
   ],
   "source": [
    "def somar_dois(valor):\n",
    "    return valor +2\n",
    "\n",
    "maiores_que_cinco = [\n",
    "    somar_dois(valor) \n",
    "    for valor in valores \n",
    "    if valor > 5\n",
    "    ]\n",
    "    \n",
    "maiores_que_cinco"
   ]
  },
  {
   "cell_type": "markdown",
   "id": "f365ba9c",
   "metadata": {},
   "source": [
    "Compreensão de conjuntos e dicionários"
   ]
  },
  {
   "cell_type": "code",
   "execution_count": null,
   "id": "a47f7887",
   "metadata": {},
   "outputs": [
    {
     "data": {
      "text/plain": [
       "{6, 7, 8, 9}"
      ]
     },
     "execution_count": 5,
     "metadata": {},
     "output_type": "execute_result"
    }
   ],
   "source": [
    "# Conjunto\n",
    "\n",
    "valores = list(range(10))\n",
    "maiores_que_cinco = {valor for valor in valores if valor > 5}\n",
    "maiores_que_cinco"
   ]
  },
  {
   "cell_type": "code",
   "execution_count": 6,
   "id": "82b4aa8b",
   "metadata": {},
   "outputs": [
    {
     "data": {
      "text/plain": [
       "{6: 8, 7: 9, 8: 10, 9: 11}"
      ]
     },
     "execution_count": 6,
     "metadata": {},
     "output_type": "execute_result"
    }
   ],
   "source": [
    "# Dicionário\n",
    "\n",
    "valores = list(range(10))\n",
    "maiores_que_cinco = {valor: valor + 2 for valor in valores if valor > 5}\n",
    "maiores_que_cinco"
   ]
  },
  {
   "cell_type": "code",
   "execution_count": 10,
   "id": "8a5e6666",
   "metadata": {},
   "outputs": [
    {
     "data": {
      "text/plain": [
       "{'Leite': 3.86, 'Maça': 1.73, 'Carne': 22.77}"
      ]
     },
     "execution_count": 10,
     "metadata": {},
     "output_type": "execute_result"
    }
   ],
   "source": [
    "produtos_em_dolar = {\n",
    "    'Leite': 0.78,\n",
    "    'Maça': 0.35,\n",
    "    'Carne': 4.60,\n",
    "}\n",
    "\n",
    "fator_de_conversao = 4.95\n",
    "\n",
    "produtos_em_real = {produto: round(valor * fator_de_conversao, 2) for produto, valor in produtos_em_dolar.items()}\n",
    "produtos_em_real"
   ]
  }
 ],
 "metadata": {
  "kernelspec": {
   "display_name": ".venv",
   "language": "python",
   "name": "python3"
  },
  "language_info": {
   "codemirror_mode": {
    "name": "ipython",
    "version": 3
   },
   "file_extension": ".py",
   "mimetype": "text/x-python",
   "name": "python",
   "nbconvert_exporter": "python",
   "pygments_lexer": "ipython3",
   "version": "3.13.2"
  }
 },
 "nbformat": 4,
 "nbformat_minor": 5
}
