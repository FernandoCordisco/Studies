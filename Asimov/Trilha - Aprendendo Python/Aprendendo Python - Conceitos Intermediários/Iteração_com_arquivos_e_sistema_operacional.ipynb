{
 "cells": [
  {
   "cell_type": "markdown",
   "id": "dabdd139",
   "metadata": {},
   "source": [
    "Iteração com arquivos e sistema operacional"
   ]
  },
  {
   "cell_type": "code",
   "execution_count": 29,
   "id": "33b565c2",
   "metadata": {},
   "outputs": [],
   "source": [
    "import os"
   ]
  },
  {
   "cell_type": "code",
   "execution_count": 15,
   "id": "c25b17d8",
   "metadata": {},
   "outputs": [
    {
     "data": {
      "text/plain": [
       "'c:\\\\Estudos\\\\Studies\\\\Asimov\\\\Trilha - Aprendendo Python\\\\Aprendendo Python - Conceitos Intermediários'"
      ]
     },
     "execution_count": 15,
     "metadata": {},
     "output_type": "execute_result"
    }
   ],
   "source": [
    "os.getcwd()"
   ]
  },
  {
   "cell_type": "code",
   "execution_count": 14,
   "id": "f08c76ad",
   "metadata": {},
   "outputs": [],
   "source": [
    "os.chdir(\"..\")"
   ]
  },
  {
   "cell_type": "code",
   "execution_count": 16,
   "id": "a0103d4b",
   "metadata": {},
   "outputs": [
    {
     "data": {
      "text/plain": [
       "['.venv',\n",
       " 'Aprendendo Python_ Conceitos Intermediários',\n",
       " 'Blocos_de_codigo_e_operadores.ipynb',\n",
       " 'Blocos_de_codigo_e_operadores_desafios.ipynb',\n",
       " 'depurando_codigo_com_debugger.py',\n",
       " 'Entendendo_funções.ipynb',\n",
       " 'Entendendo_funções_desafios.ipynb',\n",
       " 'Estrutura_de_dados.ipynb',\n",
       " 'Estrutura_de_dados_desafios.ipynb',\n",
       " 'Iteração_avançada.ipynb',\n",
       " 'Iteração_avançada_desafios.ipynb',\n",
       " 'Iteração_com_arquivos_e_sistema_operacional.ipynb',\n",
       " 'meus_decoradores.py',\n",
       " 'venv',\n",
       " '__pycache__']"
      ]
     },
     "execution_count": 16,
     "metadata": {},
     "output_type": "execute_result"
    }
   ],
   "source": [
    "os.listdir()"
   ]
  },
  {
   "cell_type": "code",
   "execution_count": 9,
   "id": "4fbea62c",
   "metadata": {},
   "outputs": [],
   "source": [
    "pasta = 'Aprendendo Python_ Conceitos Intermediários'\n",
    "os.chdir(pasta)"
   ]
  },
  {
   "cell_type": "code",
   "execution_count": 17,
   "id": "8bc7e982",
   "metadata": {},
   "outputs": [
    {
     "data": {
      "text/plain": [
       "'c:\\\\Users\\\\ferna\\\\miniconda3;C:\\\\Users\\\\ferna\\\\miniconda3;C:\\\\Users\\\\ferna\\\\miniconda3\\\\Library\\\\mingw-w64\\\\bin;C:\\\\Users\\\\ferna\\\\miniconda3\\\\Library\\\\usr\\\\bin;C:\\\\Users\\\\ferna\\\\miniconda3\\\\Library\\\\bin;C:\\\\Users\\\\ferna\\\\miniconda3\\\\Scripts;C:\\\\Users\\\\ferna\\\\miniconda3\\\\bin;C:\\\\Users\\\\ferna\\\\miniconda3\\\\condabin;C:\\\\Program Files (x86)\\\\Common Files\\\\Oracle\\\\Java\\\\javapath;C:\\\\WINDOWS\\\\system32;C:\\\\WINDOWS;C:\\\\WINDOWS\\\\System32\\\\Wbem;C:\\\\WINDOWS\\\\System32\\\\WindowsPowerShell\\\\v1.0;C:\\\\WINDOWS\\\\System32\\\\OpenSSH;C:\\\\Program Files\\\\dotnet;C:\\\\Program Files\\\\Git\\\\cmd;C:\\\\Program Files (x86)\\\\NVIDIA Corporation\\\\PhysX\\\\Common;C:\\\\Users\\\\ferna\\\\AppData\\\\Local\\\\Programs\\\\Python\\\\Python313\\\\Scripts;C:\\\\Users\\\\ferna\\\\AppData\\\\Local\\\\Programs\\\\Python\\\\Python313;C:\\\\Users\\\\ferna\\\\AppData\\\\Local\\\\Programs\\\\Python\\\\Launcher;C:\\\\Users\\\\ferna\\\\AppData\\\\Local\\\\Microsoft\\\\WindowsApps;C:\\\\Users\\\\ferna\\\\.dotnet\\\\tools;C:\\\\Users\\\\ferna\\\\AppData\\\\Local\\\\Programs\\\\Microsoft VS Code\\\\bin'"
      ]
     },
     "execution_count": 17,
     "metadata": {},
     "output_type": "execute_result"
    }
   ],
   "source": [
    "os.environ['PATH']"
   ]
  },
  {
   "cell_type": "code",
   "execution_count": 22,
   "id": "58781447",
   "metadata": {},
   "outputs": [],
   "source": [
    "from pathlib import Path"
   ]
  },
  {
   "cell_type": "code",
   "execution_count": 23,
   "id": "3e62c013",
   "metadata": {},
   "outputs": [
    {
     "data": {
      "text/plain": [
       "WindowsPath('c:/Estudos/Studies/Asimov/Trilha - Aprendendo Python/Aprendendo Python - Conceitos Intermediários')"
      ]
     },
     "execution_count": 23,
     "metadata": {},
     "output_type": "execute_result"
    }
   ],
   "source": [
    "p = Path('.')\n",
    "p.absolute()"
   ]
  },
  {
   "cell_type": "code",
   "execution_count": 25,
   "id": "a6961222",
   "metadata": {},
   "outputs": [
    {
     "data": {
      "text/plain": [
       "[WindowsPath('c:/Estudos/Studies/Asimov/Trilha - Aprendendo Python/Aprendendo Python - Conceitos Intermediários/.venv'),\n",
       " WindowsPath('c:/Estudos/Studies/Asimov/Trilha - Aprendendo Python/Aprendendo Python - Conceitos Intermediários/Aprendendo Python_ Conceitos Intermediários'),\n",
       " WindowsPath('c:/Estudos/Studies/Asimov/Trilha - Aprendendo Python/Aprendendo Python - Conceitos Intermediários/Blocos_de_codigo_e_operadores.ipynb'),\n",
       " WindowsPath('c:/Estudos/Studies/Asimov/Trilha - Aprendendo Python/Aprendendo Python - Conceitos Intermediários/Blocos_de_codigo_e_operadores_desafios.ipynb'),\n",
       " WindowsPath('c:/Estudos/Studies/Asimov/Trilha - Aprendendo Python/Aprendendo Python - Conceitos Intermediários/depurando_codigo_com_debugger.py'),\n",
       " WindowsPath('c:/Estudos/Studies/Asimov/Trilha - Aprendendo Python/Aprendendo Python - Conceitos Intermediários/Entendendo_funções.ipynb'),\n",
       " WindowsPath('c:/Estudos/Studies/Asimov/Trilha - Aprendendo Python/Aprendendo Python - Conceitos Intermediários/Entendendo_funções_desafios.ipynb'),\n",
       " WindowsPath('c:/Estudos/Studies/Asimov/Trilha - Aprendendo Python/Aprendendo Python - Conceitos Intermediários/Estrutura_de_dados.ipynb'),\n",
       " WindowsPath('c:/Estudos/Studies/Asimov/Trilha - Aprendendo Python/Aprendendo Python - Conceitos Intermediários/Estrutura_de_dados_desafios.ipynb'),\n",
       " WindowsPath('c:/Estudos/Studies/Asimov/Trilha - Aprendendo Python/Aprendendo Python - Conceitos Intermediários/Iteração_avançada.ipynb'),\n",
       " WindowsPath('c:/Estudos/Studies/Asimov/Trilha - Aprendendo Python/Aprendendo Python - Conceitos Intermediários/Iteração_avançada_desafios.ipynb'),\n",
       " WindowsPath('c:/Estudos/Studies/Asimov/Trilha - Aprendendo Python/Aprendendo Python - Conceitos Intermediários/Iteração_com_arquivos_e_sistema_operacional.ipynb'),\n",
       " WindowsPath('c:/Estudos/Studies/Asimov/Trilha - Aprendendo Python/Aprendendo Python - Conceitos Intermediários/meus_decoradores.py'),\n",
       " WindowsPath('c:/Estudos/Studies/Asimov/Trilha - Aprendendo Python/Aprendendo Python - Conceitos Intermediários/venv'),\n",
       " WindowsPath('c:/Estudos/Studies/Asimov/Trilha - Aprendendo Python/Aprendendo Python - Conceitos Intermediários/__pycache__')]"
      ]
     },
     "execution_count": 25,
     "metadata": {},
     "output_type": "execute_result"
    }
   ],
   "source": [
    "list(path.absolute() for path in p.iterdir())"
   ]
  },
  {
   "cell_type": "code",
   "execution_count": 26,
   "id": "9c344a57",
   "metadata": {},
   "outputs": [
    {
     "data": {
      "text/plain": [
       "False"
      ]
     },
     "execution_count": 26,
     "metadata": {},
     "output_type": "execute_result"
    }
   ],
   "source": [
    "caminho = p.absolute() / 'arquivos' / 'notas.txt'\n",
    "caminho.exists()"
   ]
  },
  {
   "cell_type": "code",
   "execution_count": 27,
   "id": "fa7d5f60",
   "metadata": {},
   "outputs": [],
   "source": [
    "nome_arquivo = 'notas.txt'\n",
    "\n",
    "with open(nome_arquivo, 'w') as arquivo_texto:\n",
    "    arquivo_texto.write('Estou aprendendo python')"
   ]
  },
  {
   "cell_type": "code",
   "execution_count": 31,
   "id": "f4fb9125",
   "metadata": {},
   "outputs": [],
   "source": [
    "pasta = Path('.').absolute() / 'arquivos'\n",
    "pasta.mkdir(exist_ok = True)"
   ]
  },
  {
   "cell_type": "code",
   "execution_count": 32,
   "id": "d18a3d3f",
   "metadata": {},
   "outputs": [],
   "source": [
    "import shutil"
   ]
  },
  {
   "cell_type": "code",
   "execution_count": 33,
   "id": "a675f542",
   "metadata": {},
   "outputs": [
    {
     "data": {
      "text/plain": [
       "WindowsPath('c:/Estudos/Studies/Asimov/Trilha - Aprendendo Python/Aprendendo Python - Conceitos Intermediários/arquivos/notas.txt')"
      ]
     },
     "execution_count": 33,
     "metadata": {},
     "output_type": "execute_result"
    }
   ],
   "source": [
    "shutil.move(nome_arquivo, pasta / nome_arquivo)"
   ]
  },
  {
   "cell_type": "code",
   "execution_count": 34,
   "id": "56bf120d",
   "metadata": {},
   "outputs": [],
   "source": [
    "shutil.rmtree(pasta)"
   ]
  },
  {
   "cell_type": "markdown",
   "id": "0a35faa1",
   "metadata": {},
   "source": [
    "Trabalhando com tempo, datas e horas"
   ]
  },
  {
   "cell_type": "code",
   "execution_count": 35,
   "id": "589d2152",
   "metadata": {},
   "outputs": [],
   "source": [
    "import datetime"
   ]
  },
  {
   "cell_type": "code",
   "execution_count": 36,
   "id": "3376c636",
   "metadata": {},
   "outputs": [
    {
     "data": {
      "text/plain": [
       "datetime.date(2022, 2, 5)"
      ]
     },
     "execution_count": 36,
     "metadata": {},
     "output_type": "execute_result"
    }
   ],
   "source": [
    "data = datetime.date(2022, 2, 5)\n",
    "data"
   ]
  },
  {
   "cell_type": "code",
   "execution_count": 37,
   "id": "55b2e122",
   "metadata": {},
   "outputs": [
    {
     "data": {
      "text/plain": [
       "datetime.time(18, 6, 35)"
      ]
     },
     "execution_count": 37,
     "metadata": {},
     "output_type": "execute_result"
    }
   ],
   "source": [
    "hora = datetime.time(18, 6, 35)\n",
    "hora"
   ]
  },
  {
   "cell_type": "code",
   "execution_count": 39,
   "id": "ad1e48bc",
   "metadata": {},
   "outputs": [
    {
     "data": {
      "text/plain": [
       "datetime.datetime(2022, 2, 5, 18, 6, 35)"
      ]
     },
     "execution_count": 39,
     "metadata": {},
     "output_type": "execute_result"
    }
   ],
   "source": [
    "datetime.datetime(2022, 2, 5, 18, 6, 35)"
   ]
  },
  {
   "cell_type": "code",
   "execution_count": 42,
   "id": "b6334d62",
   "metadata": {},
   "outputs": [],
   "source": [
    "instante =  datetime.datetime(2022, 2, 5, 18, 6, 35)"
   ]
  },
  {
   "cell_type": "code",
   "execution_count": 46,
   "id": "a21e9200",
   "metadata": {},
   "outputs": [
    {
     "data": {
      "text/plain": [
       "'Dia 05/02/2022, as 18 horas e 06 minutos'"
      ]
     },
     "execution_count": 46,
     "metadata": {},
     "output_type": "execute_result"
    }
   ],
   "source": [
    "instante.strftime('Dia %d/%m/%Y, as %H horas e %M minutos')"
   ]
  },
  {
   "cell_type": "code",
   "execution_count": 47,
   "id": "6e34f1ed",
   "metadata": {},
   "outputs": [
    {
     "data": {
      "text/plain": [
       "'[ 2022/02/05 --- 18:06:35 ]'"
      ]
     },
     "execution_count": 47,
     "metadata": {},
     "output_type": "execute_result"
    }
   ],
   "source": [
    "instante.strftime('[ %Y/%m/%d --- %H:%M:%S ]')"
   ]
  },
  {
   "cell_type": "code",
   "execution_count": 49,
   "id": "90b47bb7",
   "metadata": {},
   "outputs": [],
   "source": [
    "texto = '2022-02-05T18:06:35'"
   ]
  },
  {
   "cell_type": "code",
   "execution_count": 50,
   "id": "dd8da495",
   "metadata": {},
   "outputs": [
    {
     "data": {
      "text/plain": [
       "datetime.datetime(2022, 2, 5, 18, 6, 35)"
      ]
     },
     "execution_count": 50,
     "metadata": {},
     "output_type": "execute_result"
    }
   ],
   "source": [
    "data = datetime.datetime.strptime(texto, '%Y-%m-%dT%H:%M:%S')\n",
    "data"
   ]
  },
  {
   "cell_type": "code",
   "execution_count": 59,
   "id": "824acc47",
   "metadata": {},
   "outputs": [
    {
     "data": {
      "text/plain": [
       "datetime.datetime(2025, 6, 5, 8, 34, 38, 491800)"
      ]
     },
     "execution_count": 59,
     "metadata": {},
     "output_type": "execute_result"
    }
   ],
   "source": [
    "hoje = datetime.datetime.today()\n",
    "hoje"
   ]
  },
  {
   "cell_type": "code",
   "execution_count": 62,
   "id": "a7581016",
   "metadata": {},
   "outputs": [],
   "source": [
    "ano_2000 = datetime.datetime(2000, 1, 1)"
   ]
  },
  {
   "cell_type": "code",
   "execution_count": 61,
   "id": "944f8daa",
   "metadata": {},
   "outputs": [
    {
     "data": {
      "text/plain": [
       "datetime.timedelta(days=9287, seconds=30878, microseconds=491800)"
      ]
     },
     "execution_count": 61,
     "metadata": {},
     "output_type": "execute_result"
    }
   ],
   "source": [
    "hoje - ano_2000"
   ]
  },
  {
   "cell_type": "code",
   "execution_count": 64,
   "id": "01a2251b",
   "metadata": {},
   "outputs": [
    {
     "data": {
      "text/plain": [
       "222896.5773588333"
      ]
     },
     "execution_count": 64,
     "metadata": {},
     "output_type": "execute_result"
    }
   ],
   "source": [
    "(hoje - ano_2000).total_seconds() / 3600"
   ]
  },
  {
   "cell_type": "code",
   "execution_count": 65,
   "id": "1280333a",
   "metadata": {},
   "outputs": [
    {
     "data": {
      "text/plain": [
       "802427678.4918"
      ]
     },
     "execution_count": 65,
     "metadata": {},
     "output_type": "execute_result"
    }
   ],
   "source": [
    "(hoje - ano_2000).total_seconds() "
   ]
  },
  {
   "cell_type": "code",
   "execution_count": 66,
   "id": "eb23cb0e",
   "metadata": {},
   "outputs": [
    {
     "data": {
      "text/plain": [
       "datetime.datetime(2025, 6, 5, 8, 42, 56, 950369)"
      ]
     },
     "execution_count": 66,
     "metadata": {},
     "output_type": "execute_result"
    }
   ],
   "source": [
    "datetime.datetime.now()"
   ]
  }
 ],
 "metadata": {
  "kernelspec": {
   "display_name": "base",
   "language": "python",
   "name": "python3"
  },
  "language_info": {
   "codemirror_mode": {
    "name": "ipython",
    "version": 3
   },
   "file_extension": ".py",
   "mimetype": "text/x-python",
   "name": "python",
   "nbconvert_exporter": "python",
   "pygments_lexer": "ipython3",
   "version": "3.13.2"
  }
 },
 "nbformat": 4,
 "nbformat_minor": 5
}
