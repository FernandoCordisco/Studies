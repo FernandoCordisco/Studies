{
 "cells": [
  {
   "cell_type": "markdown",
   "id": "66e719e3",
   "metadata": {},
   "source": [
    "DESAFIO - Conjuntos e compreensão de lista"
   ]
  },
  {
   "cell_type": "code",
   "execution_count": 7,
   "id": "911fd230",
   "metadata": {},
   "outputs": [
    {
     "name": "stdout",
     "output_type": "stream",
     "text": [
      "[90, 150, 300, 360]\n"
     ]
    }
   ],
   "source": [
    " # Desafio 01\n",
    " # Converta o loop abaixo para uma compreensão de lista:\n",
    "\n",
    "\n",
    "valores = [30, 50, 100, 120]\n",
    "triplos = []\n",
    "\n",
    "for valor in valores:\n",
    "    triplo = valor * 3\n",
    "    triplos.append(triplo)\n",
    "\n",
    "print(triplos)"
   ]
  },
  {
   "cell_type": "code",
   "execution_count": 11,
   "id": "4147fb8d",
   "metadata": {},
   "outputs": [
    {
     "data": {
      "text/plain": [
       "[90, 150, 300, 360]"
      ]
     },
     "execution_count": 11,
     "metadata": {},
     "output_type": "execute_result"
    }
   ],
   "source": [
    "valores = [30, 50, 100, 120]\n",
    "triplos = [valor * 3 for valor in valores]\n",
    "triplos"
   ]
  },
  {
   "cell_type": "code",
   "execution_count": 14,
   "id": "9ec2af38",
   "metadata": {},
   "outputs": [],
   "source": [
    "#Desafio 02 \n",
    "#Crie uma compreensão de dicionários a partir de uma lista de palavras. No dicionário resultante, cada\n",
    "#chave é a palavra em letras minúsculas, e cada valor associado é o número de caracteres da palavra,\n",
    "#sem contar espaços em branco.\n",
    "#Exemplo de lista de palavras e o dicionário resultante:\n",
    "\n"
   ]
  },
  {
   "cell_type": "code",
   "execution_count": null,
   "id": "b66f2d1b",
   "metadata": {},
   "outputs": [
    {
     "data": {
      "text/plain": [
       "{'olá': 3, 'python': 6, 'juliano': 7, 'asimov academy': 14}"
      ]
     },
     "execution_count": 23,
     "metadata": {},
     "output_type": "execute_result"
    }
   ],
   "source": [
    "palavras = ['Olá', 'Python', 'Juliano', 'Asimov Academy']\n",
    "dict_caracteres = {'olá': 3, 'python': 6, 'juliano': 7, 'asimov academy': 13}\n",
    "\n",
    "palavras_e_tamanho = {palavra.lower(): len(palavra.replace(' ', '')) for palavra in palavras}\n",
    "palavras_e_tamanho"
   ]
  },
  {
   "cell_type": "code",
   "execution_count": 10,
   "id": "35618444",
   "metadata": {},
   "outputs": [],
   "source": [
    "#Desafio 02 \n",
    "# Meus amigos possuem os seguintes interesses:\n",
    "#• Gostam de programação: Ricardo, Roberto, Pedro, Vinicius\n",
    "#• Gostam de jogar futebol: Mateus, Roberto, Paulo, Vinicius\n",
    "#• Estudam na Asimov Academy: Ricardo, Mateus, Paulo, Pedro\n",
    "#Usando operações de conjunto, encontre o conjunto de amigos que gostam de programação e\n",
    "#estudam na Asimov Academy, mas que não gostam de jogar futebol"
   ]
  },
  {
   "cell_type": "code",
   "execution_count": 24,
   "id": "d9a03187",
   "metadata": {},
   "outputs": [
    {
     "data": {
      "text/plain": [
       "{'Pedro', 'Ricardo'}"
      ]
     },
     "execution_count": 24,
     "metadata": {},
     "output_type": "execute_result"
    }
   ],
   "source": [
    "gostam_de_programação = {'Ricardo', 'Roberto', 'Pedro', 'Paulo', 'Vinicius'}\n",
    "gostam_de_futebol = {'Mateus', 'Roberto', 'Paulo', 'Vinicius'}\n",
    "estudam_na_asimov_academy = {'Ricardo', 'Mateus', 'Paulo', 'Pedro'}\n",
    "\n",
    "gostam_de_programação_e_estuda_asimov = gostam_de_programação.intersection(estudam_na_asimov_academy)\n",
    "gostam_de_programação_e_estuda_asimov.difference(gostam_de_futebol)"
   ]
  }
 ],
 "metadata": {
  "kernelspec": {
   "display_name": ".venv",
   "language": "python",
   "name": "python3"
  },
  "language_info": {
   "codemirror_mode": {
    "name": "ipython",
    "version": 3
   },
   "file_extension": ".py",
   "mimetype": "text/x-python",
   "name": "python",
   "nbconvert_exporter": "python",
   "pygments_lexer": "ipython3",
   "version": "3.13.2"
  }
 },
 "nbformat": 4,
 "nbformat_minor": 5
}
