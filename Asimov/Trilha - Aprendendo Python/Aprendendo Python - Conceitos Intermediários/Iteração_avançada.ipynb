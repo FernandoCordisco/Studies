{
 "cells": [
  {
   "cell_type": "markdown",
   "id": "7f5af07c",
   "metadata": {},
   "source": [
    "Funções de iteração"
   ]
  },
  {
   "cell_type": "code",
   "execution_count": null,
   "id": "5b0ba8ed",
   "metadata": {},
   "outputs": [
    {
     "name": "stdout",
     "output_type": "stream",
     "text": [
      "Fernando\n",
      "Brunna\n",
      "Yasmin\n",
      "Leandro\n",
      "Brenno\n",
      "Letícia\n"
     ]
    }
   ],
   "source": [
    "# Enumerate\n",
    "\n",
    "nomes = ['Fernando', 'Brunna', 'Yasmin', 'Leandro', 'Brenno', 'Letícia']\n",
    "\n",
    "for n in range(len(nomes)):\n",
    "    nome = nomes[n]\n",
    "    print(nome)"
   ]
  },
  {
   "cell_type": "code",
   "execution_count": null,
   "id": "e2694bca",
   "metadata": {},
   "outputs": [
    {
     "name": "stdout",
     "output_type": "stream",
     "text": [
      "Índice 0 -> Nome Fernando\n",
      "Índice 1 -> Nome Brunna\n",
      "Índice 2 -> Nome Yasmin\n",
      "Índice 3 -> Nome Leandro\n",
      "Índice 4 -> Nome Brenno\n",
      "Índice 5 -> Nome Letícia\n"
     ]
    }
   ],
   "source": [
    "for i, nome in enumerate(nomes):\n",
    "    print(f'Índice {i} -> Nome {nome}')"
   ]
  },
  {
   "cell_type": "code",
   "execution_count": 4,
   "id": "b025f281",
   "metadata": {},
   "outputs": [
    {
     "name": "stdout",
     "output_type": "stream",
     "text": [
      "Índice 50 -> Nome Fernando\n",
      "Índice 51 -> Nome Brunna\n",
      "Índice 52 -> Nome Yasmin\n",
      "Índice 53 -> Nome Leandro\n",
      "Índice 54 -> Nome Brenno\n",
      "Índice 55 -> Nome Letícia\n"
     ]
    }
   ],
   "source": [
    "for i, nome in enumerate(nomes, 50): # É possível alterar o ínicio do índice\n",
    "    print(f'Índice {i} -> Nome {nome}')"
   ]
  },
  {
   "cell_type": "code",
   "execution_count": null,
   "id": "3f74743e",
   "metadata": {},
   "outputs": [
    {
     "data": {
      "text/plain": [
       "[-1, 1, 25, 50]"
      ]
     },
     "execution_count": 5,
     "metadata": {},
     "output_type": "execute_result"
    }
   ],
   "source": [
    "#Sorted\n",
    "\n",
    "conjunto = {1, -1, 50, 25}\n",
    "ordenados = sorted(conjunto)\n",
    "ordenados"
   ]
  },
  {
   "cell_type": "code",
   "execution_count": 7,
   "id": "d9b62cfc",
   "metadata": {},
   "outputs": [
    {
     "data": {
      "text/plain": [
       "[50, 25, 1, -1]"
      ]
     },
     "execution_count": 7,
     "metadata": {},
     "output_type": "execute_result"
    }
   ],
   "source": [
    "conjunto = {1, -1, 50, 25}\n",
    "ordenados = sorted(conjunto, reverse=True) # Altera a ordem\n",
    "ordenados"
   ]
  },
  {
   "cell_type": "code",
   "execution_count": null,
   "id": "20499fee",
   "metadata": {},
   "outputs": [
    {
     "name": "stdout",
     "output_type": "stream",
     "text": [
      "9\n",
      "8\n",
      "7\n",
      "6\n",
      "5\n",
      "4\n",
      "3\n",
      "2\n",
      "1\n",
      "0\n"
     ]
    }
   ],
   "source": [
    "# Reversed\n",
    "\n",
    "for i in reversed(range(10)): # range(9, -1, -1)\n",
    "    print(i)\n"
   ]
  },
  {
   "cell_type": "code",
   "execution_count": 9,
   "id": "18f04583",
   "metadata": {},
   "outputs": [
    {
     "name": "stdout",
     "output_type": "stream",
     "text": [
      "('Fernando', 20)\n",
      "('Brunna', 36)\n",
      "('Yasmin', 8)\n",
      "('Leandro', 40)\n",
      "('Brenno', 2)\n",
      "('Letícia', 21)\n"
     ]
    }
   ],
   "source": [
    "# Zip \n",
    "\n",
    "# nomes = ['Fernando', 'Brunna', 'Yasmin', 'Leandro', 'Brenno', 'Letícia']\n",
    "idades = [20, 36, 8, 40, 2, 21]\n",
    "\n",
    "for elemento in zip(nomes, idades):\n",
    "    print(elemento)"
   ]
  },
  {
   "cell_type": "markdown",
   "id": "0aac3275",
   "metadata": {},
   "source": [
    "Desempacotando sequências"
   ]
  },
  {
   "cell_type": "code",
   "execution_count": 10,
   "id": "9349a28c",
   "metadata": {},
   "outputs": [
    {
     "name": "stdout",
     "output_type": "stream",
     "text": [
      "a: 1 / b: 2 / c: 3\n"
     ]
    }
   ],
   "source": [
    "numeros = [1, 2, 3]\n",
    "a, b, c = numeros\n",
    "\n",
    "print(f'a: {a} / b: {b} / c: {c}')"
   ]
  },
  {
   "cell_type": "code",
   "execution_count": 11,
   "id": "c6ca4fe6",
   "metadata": {},
   "outputs": [
    {
     "name": "stdout",
     "output_type": "stream",
     "text": [
      "chave 1 valor 1\n",
      "chave 2 valor 2\n",
      "chave 3 valor 3\n"
     ]
    }
   ],
   "source": [
    "chaves = {\n",
    "    'chave 1': 'valor 1',\n",
    "    'chave 2': 'valor 2',\n",
    "    'chave 3': 'valor 3',\n",
    "}\n",
    "\n",
    "for chave, valor in chaves.items():\n",
    "    print(chave, valor)"
   ]
  },
  {
   "cell_type": "code",
   "execution_count": 12,
   "id": "78d0c704",
   "metadata": {},
   "outputs": [
    {
     "name": "stdout",
     "output_type": "stream",
     "text": [
      "(0, ('Fernando', 20))\n",
      "(1, ('Brunna', 36))\n",
      "(2, ('Yasmin', 8))\n",
      "(3, ('Leandro', 40))\n",
      "(4, ('Brenno', 2))\n",
      "(5, ('Letícia', 21))\n"
     ]
    }
   ],
   "source": [
    "for elemento in  enumerate(zip(nomes, idades)):\n",
    "    print(elemento)"
   ]
  },
  {
   "cell_type": "code",
   "execution_count": 14,
   "id": "9a2fa0c1",
   "metadata": {},
   "outputs": [
    {
     "name": "stdout",
     "output_type": "stream",
     "text": [
      "0 -> Fernando, 20\n",
      "1 -> Brunna, 36\n",
      "2 -> Yasmin, 8\n",
      "3 -> Leandro, 40\n",
      "4 -> Brenno, 2\n",
      "5 -> Letícia, 21\n"
     ]
    }
   ],
   "source": [
    "for i, (nome, idade) in enumerate(zip(nomes, idades)):\n",
    "    print(f'{i} -> {nome}, {idade}')"
   ]
  },
  {
   "cell_type": "code",
   "execution_count": 18,
   "id": "66269b04",
   "metadata": {},
   "outputs": [
    {
     "name": "stdout",
     "output_type": "stream",
     "text": [
      "1\n",
      "[2, 3, 4]\n",
      "5\n"
     ]
    }
   ],
   "source": [
    "lista = [1, 2, 3, 4, 5]\n",
    "primeiro, *meio, ultimo = lista\n",
    "\n",
    "print(primeiro)\n",
    "print(meio)\n",
    "print(ultimo)"
   ]
  },
  {
   "cell_type": "code",
   "execution_count": 21,
   "id": "1ce0dc53",
   "metadata": {},
   "outputs": [
    {
     "name": "stdout",
     "output_type": "stream",
     "text": [
      "1\n",
      "[2, 3, 4, 5]\n"
     ]
    }
   ],
   "source": [
    "primeiro, *resto = lista\n",
    "print(primeiro)\n",
    "print(resto)"
   ]
  },
  {
   "cell_type": "markdown",
   "id": "9f98bf2c",
   "metadata": {},
   "source": [
    "Iteração avançada com itertools"
   ]
  },
  {
   "cell_type": "code",
   "execution_count": 22,
   "id": "392b332c",
   "metadata": {},
   "outputs": [],
   "source": [
    "import itertools"
   ]
  },
  {
   "cell_type": "code",
   "execution_count": null,
   "id": "e95c635d",
   "metadata": {},
   "outputs": [
    {
     "name": "stdout",
     "output_type": "stream",
     "text": [
      "1\n",
      "2\n",
      "3\n",
      "a\n",
      "b\n",
      "c\n"
     ]
    }
   ],
   "source": [
    "# itertools.chain\n",
    "\n",
    "seq1 = (1, 2, 3)\n",
    "seq2 = ['a', 'b', 'c']\n",
    "for elemento in itertools.chain(seq1, seq2):\n",
    "    print(elemento)"
   ]
  },
  {
   "cell_type": "code",
   "execution_count": 27,
   "id": "84b7b985",
   "metadata": {},
   "outputs": [
    {
     "name": "stdout",
     "output_type": "stream",
     "text": [
      "('Fernando', 20, 'fff')\n",
      "('Brunna', 36, 'bbb')\n",
      "('Yasmin', 8, 'Vazio')\n"
     ]
    }
   ],
   "source": [
    "# itertools.zip_longest\n",
    "\n",
    "nomes = ['Fernando', 'Brunna', 'Yasmin']\n",
    "idades = [20, 36, 8]\n",
    "cpfs = ['fff', 'bbb']\n",
    "\n",
    "for elemento in itertools.zip_longest(nomes, idades, cpfs, fillvalue='Vazio'): # fillvalue='' define o valor para substituir o elemento vazio\n",
    "    print(elemento)"
   ]
  },
  {
   "cell_type": "code",
   "execution_count": 28,
   "id": "184a80f2",
   "metadata": {},
   "outputs": [
    {
     "name": "stdout",
     "output_type": "stream",
     "text": [
      "('Arroz', 'Água')\n",
      "('Arroz', 'Itubaina')\n",
      "('Feijão', 'Água')\n",
      "('Feijão', 'Itubaina')\n",
      "('Carne', 'Água')\n",
      "('Carne', 'Itubaina')\n"
     ]
    }
   ],
   "source": [
    "# iterpools.product\n",
    "\n",
    "comidas = ['Arroz', 'Feijão', 'Carne']\n",
    "bebidas = ('Água', 'Itubaina')\n",
    "\n",
    "for prato in itertools.product(comidas, bebidas):\n",
    "    print(prato)"
   ]
  },
  {
   "cell_type": "code",
   "execution_count": 30,
   "id": "7384982b",
   "metadata": {},
   "outputs": [
    {
     "name": "stdout",
     "output_type": "stream",
     "text": [
      "('Julio', 'Pedro')\n",
      "('Julio', 'Jorge')\n",
      "('Julio', 'Melissa')\n",
      "('Julio', 'Paula')\n",
      "('Pedro', 'Jorge')\n",
      "('Pedro', 'Melissa')\n",
      "('Pedro', 'Paula')\n",
      "('Jorge', 'Melissa')\n",
      "('Jorge', 'Paula')\n",
      "('Melissa', 'Paula')\n"
     ]
    }
   ],
   "source": [
    "# iterpools.combinations\n",
    "\n",
    "alunos = ['Julio' , 'Pedro', 'Jorge', 'Melissa', 'Paula']\n",
    "\n",
    "for dupla in itertools.combinations(alunos, 2):\n",
    "    print(dupla)"
   ]
  },
  {
   "cell_type": "code",
   "execution_count": 31,
   "id": "4669f8c0",
   "metadata": {},
   "outputs": [
    {
     "name": "stdout",
     "output_type": "stream",
     "text": [
      "('Julio', 'Pedro')\n",
      "('Julio', 'Jorge')\n",
      "('Julio', 'Melissa')\n",
      "('Julio', 'Paula')\n",
      "('Pedro', 'Julio')\n",
      "('Pedro', 'Jorge')\n",
      "('Pedro', 'Melissa')\n",
      "('Pedro', 'Paula')\n",
      "('Jorge', 'Julio')\n",
      "('Jorge', 'Pedro')\n",
      "('Jorge', 'Melissa')\n",
      "('Jorge', 'Paula')\n",
      "('Melissa', 'Julio')\n",
      "('Melissa', 'Pedro')\n",
      "('Melissa', 'Jorge')\n",
      "('Melissa', 'Paula')\n",
      "('Paula', 'Julio')\n",
      "('Paula', 'Pedro')\n",
      "('Paula', 'Jorge')\n",
      "('Paula', 'Melissa')\n"
     ]
    }
   ],
   "source": [
    "# iterpools.permutations\n",
    "\n",
    "for dupla in itertools.permutations(alunos, 2):\n",
    "    print(dupla)"
   ]
  },
  {
   "cell_type": "code",
   "execution_count": 33,
   "id": "3c23963e",
   "metadata": {},
   "outputs": [
    {
     "name": "stdout",
     "output_type": "stream",
     "text": [
      "Julio E1\n",
      "Pedro E2\n",
      "Jorge E1\n",
      "Melissa E2\n",
      "Paula E1\n"
     ]
    }
   ],
   "source": [
    "# itertools. cycle\n",
    "\n",
    "alunos = ['Julio' , 'Pedro', 'Jorge', 'Melissa', 'Paula']\n",
    "equipes = ['E1', 'E2']\n",
    "\n",
    "for aluno, equipe in zip(alunos, itertools.cycle(equipes)):\n",
    "    print(aluno, equipe)\n"
   ]
  }
 ],
 "metadata": {
  "kernelspec": {
   "display_name": ".venv",
   "language": "python",
   "name": "python3"
  },
  "language_info": {
   "codemirror_mode": {
    "name": "ipython",
    "version": 3
   },
   "file_extension": ".py",
   "mimetype": "text/x-python",
   "name": "python",
   "nbconvert_exporter": "python",
   "pygments_lexer": "ipython3",
   "version": "3.13.2"
  }
 },
 "nbformat": 4,
 "nbformat_minor": 5
}
