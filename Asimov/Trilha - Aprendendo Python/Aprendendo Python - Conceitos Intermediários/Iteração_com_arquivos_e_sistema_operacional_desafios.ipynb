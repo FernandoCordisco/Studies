{
 "cells": [
  {
   "cell_type": "code",
   "execution_count": 1,
   "id": "ac704f30",
   "metadata": {},
   "outputs": [],
   "source": [
    "import re\n",
    "import datetime"
   ]
  },
  {
   "cell_type": "markdown",
   "id": "0cce8afb",
   "metadata": {},
   "source": [
    "Desafio 01\n",
    "\n",
    "Crie uma função chamada ler_datas, que recebe um texto qualquer e extrai todas as datas que\n",
    "estejam escritas no formato DD/MM/AAAA (como objetos datetime). \n",
    "Use o texto abaixo como exemplo:\n",
    "\n",
    "texto = \"\"\"\n",
    "A reunião está marcada para o dia 15/03/2023.\n",
    "Lembre-se de entregar o relatório até 28/02/2023.\n",
    "O evento acontecerá em 10/04/2023 no auditório principal.\n",
    "\"\"\""
   ]
  },
  {
   "cell_type": "code",
   "execution_count": 18,
   "id": "15713f00",
   "metadata": {},
   "outputs": [
    {
     "data": {
      "text/plain": [
       "[datetime.datetime(2023, 3, 15, 0, 0),\n",
       " datetime.datetime(2023, 2, 28, 0, 0),\n",
       " datetime.datetime(2023, 4, 10, 0, 0)]"
      ]
     },
     "execution_count": 18,
     "metadata": {},
     "output_type": "execute_result"
    }
   ],
   "source": [
    "def ler_datas(texto):\n",
    "    padrao = '[0-9]{2}/[0-9]{2}/[0-9]{4}'\n",
    "    datas = re.findall(padrao, texto)\n",
    "    datas_datetime = []\n",
    "\n",
    "    for data in datas:\n",
    "        data_datetime = datetime.datetime.strptime(data ,'%d/%m/%Y')\n",
    "        datas_datetime.append(data_datetime)\n",
    "    \n",
    "    return datas_datetime\n",
    "\n",
    "texto = \"\"\"\n",
    "A reunião está marcada para o dia 15/03/2023.\n",
    "Lembre-se de entregar o relatório até 28/02/2023.\n",
    "O evento acontecerá em 10/04/2023 no auditório principal.\n",
    "\"\"\"\n",
    "\n",
    "ler_datas(texto)\n"
   ]
  },
  {
   "cell_type": "markdown",
   "id": "d481eed1",
   "metadata": {},
   "source": [
    "Desafio 02\n",
    " \n",
    "Crie uma função chamada diff_tempo, que aceita dois strings no formato HH:MM:SS e retorna a\n",
    "diferença de tempo entre eles em um string de mesmo formato.\n",
    "Exemplo de uso:\n",
    "\n",
    "inicio = '08:34:21'\n",
    "fim = '13:55:09'\n",
    "diff = diff_tempo(inicio, fim) \n",
    "print(diff)\n",
    "# output:\n",
    "# 5:20:48"
   ]
  },
  {
   "cell_type": "code",
   "execution_count": 29,
   "id": "3a5816ba",
   "metadata": {},
   "outputs": [
    {
     "data": {
      "text/plain": [
       "'5:20:48'"
      ]
     },
     "execution_count": 29,
     "metadata": {},
     "output_type": "execute_result"
    }
   ],
   "source": [
    "def diff_tempo(inicio, fim):\n",
    "    inicio_datetime = datetime.datetime.strptime(inicio, '%H:%M:%S')\n",
    "    fim_datetime = datetime.datetime.strptime(fim, '%H:%M:%S')\n",
    "    diferenca =  fim_datetime - inicio_datetime \n",
    "    return str(diferenca)\n",
    "    \n",
    "    '''diferenca_segundos = diferenca.total_seconds()\n",
    "    h = diferenca_segundos // 3600\n",
    "    m = (diferenca_segundos % 3600) // 60\n",
    "    s = diferenca_segundos % 60\n",
    "    return f'{int(h)}:{int(m)}:{int(s)}'''\n",
    "    \n",
    "\n",
    "inicio = '08:34:21'\n",
    "fim = '13:55:09'\n",
    "diff_tempo(inicio, fim)"
   ]
  }
 ],
 "metadata": {
  "kernelspec": {
   "display_name": "base",
   "language": "python",
   "name": "python3"
  },
  "language_info": {
   "codemirror_mode": {
    "name": "ipython",
    "version": 3
   },
   "file_extension": ".py",
   "mimetype": "text/x-python",
   "name": "python",
   "nbconvert_exporter": "python",
   "pygments_lexer": "ipython3",
   "version": "3.13.2"
  }
 },
 "nbformat": 4,
 "nbformat_minor": 5
}
