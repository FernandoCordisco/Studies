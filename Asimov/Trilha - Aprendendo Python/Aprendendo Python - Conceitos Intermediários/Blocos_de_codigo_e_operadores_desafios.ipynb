{
 "cells": [
  {
   "cell_type": "markdown",
   "id": "63549c05",
   "metadata": {},
   "source": [
    "DESAFIO - Operadores"
   ]
  },
  {
   "cell_type": "markdown",
   "id": "0f582190",
   "metadata": {},
   "source": [
    "Desafio 01\n",
    "Crie uma função que retorna se um número inteiro n (maior que zero) é primo.\n",
    "Dica: um número primo é um número que só é divisível por 1 ou por ele mesmo."
   ]
  },
  {
   "cell_type": "code",
   "execution_count": 7,
   "id": "49ce0ad4",
   "metadata": {},
   "outputs": [
    {
     "name": "stdout",
     "output_type": "stream",
     "text": [
      "39 não é primo.\n"
     ]
    }
   ],
   "source": [
    "#números primos\n",
    "\n",
    "n = 39\n",
    "numeros_primos = [2]\n",
    "\n",
    "for i in range(n+1):\n",
    "    if i > 1:\n",
    "        for numero_primo in numeros_primos:\n",
    "            if i % numero_primo == 0:\n",
    "                break\n",
    "        else:\n",
    "            numeros_primos.append(i)\n",
    "\n",
    "if n in numeros_primos:\n",
    "    print(f'{n} é primo.')\n",
    "else:\n",
    "    print(f'{n} não é primo.')"
   ]
  },
  {
   "cell_type": "code",
   "execution_count": null,
   "id": "969d6db1",
   "metadata": {},
   "outputs": [
    {
     "name": "stdout",
     "output_type": "stream",
     "text": [
      "Número 1 é primo? True\n",
      "Número 5 é primo? True\n",
      "Número 10 é primo? False\n",
      "Número 13 é primo? True\n",
      "Número 15 é primo? True\n",
      "Número 17 é primo? True\n",
      "Número 39 é primo? True\n"
     ]
    }
   ],
   "source": [
    "def primo(n):\n",
    "    if n <= 2:\n",
    "        return True\n",
    "    for divisor in range(2, n):\n",
    "        if n % divisor == 0:\n",
    "            return False\n",
    "        return True\n",
    "    \n",
    "for n in [1, 5, 10, 13, 15, 17, 39]:\n",
    "    print(f'Número {n} é primo? {primo(n)}')"
   ]
  },
  {
   "cell_type": "markdown",
   "id": "750daa2c",
   "metadata": {},
   "source": [
    " Temos duas funções abaixo que simulam operações em bancos de dados:\n",
    " • busca_dados, que retorna informação de um banco de dados, mas que falha 50% das vezes\n",
    " em que é executada.\n",
    " • processa_dados, que processaa informação obtida a partir do banco de dados.\n",
    " Você consegue usar os operadores e expressões que aprendemos para simplificar o bloco de código\n",
    " ao final do script? (Não modifique o corpo das funções)\n",
    "\n",
    " import random\n",
    "\n",
    " def busca_dados():\n",
    "    if random.random() > 0.5:\n",
    "        return None\n",
    "    return 'xxxxx'\n",
    "\n",
    " def processa_dados(dados):\n",
    "    return f'Dados \"{dados}\" foram processados'\n",
    "\n",
    " dados_banco = busca_dados()\n",
    " \n",
    " if dados_banco is not None:\n",
    "    dados_processados = processa_dados(dados_banco)\n",
    " else:\n",
    "    dados_processados = 'N/A'\n",
    " print(f'Resultado: {dados_processados}')"
   ]
  },
  {
   "cell_type": "code",
   "execution_count": 18,
   "id": "be04ef16",
   "metadata": {},
   "outputs": [
    {
     "name": "stdout",
     "output_type": "stream",
     "text": [
      "Resultado: Dados \"xxxxx\" foram processados\n"
     ]
    }
   ],
   "source": [
    "import random\n",
    " \n",
    "def busca_dados():\n",
    "   if random.random() > 0.5:\n",
    "      return None\n",
    "   return 'xxxxx'\n",
    "\n",
    "def processa_dados(dados):\n",
    "   return f'Dados \"{dados}\" foram processados'\n",
    "\n",
    "dados_banco = busca_dados()\n",
    "\n",
    "dados_processados = processa_dados(dados_banco) if (dados_banco := busca_dados()) is not None else 'N/A'\n",
    "\n",
    "print(f'Resultado: {dados_processados}')"
   ]
  }
 ],
 "metadata": {
  "kernelspec": {
   "display_name": ".venv",
   "language": "python",
   "name": "python3"
  },
  "language_info": {
   "codemirror_mode": {
    "name": "ipython",
    "version": 3
   },
   "file_extension": ".py",
   "mimetype": "text/x-python",
   "name": "python",
   "nbconvert_exporter": "python",
   "pygments_lexer": "ipython3",
   "version": "3.13.2"
  }
 },
 "nbformat": 4,
 "nbformat_minor": 5
}
