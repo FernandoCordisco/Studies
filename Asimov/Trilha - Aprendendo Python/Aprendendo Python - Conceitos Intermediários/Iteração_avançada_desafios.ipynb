{
 "cells": [
  {
   "cell_type": "markdown",
   "id": "6345cc0e",
   "metadata": {},
   "source": [
    "DESAFIO - Iteração"
   ]
  },
  {
   "cell_type": "code",
   "execution_count": 6,
   "id": "678f6ce1",
   "metadata": {},
   "outputs": [],
   "source": [
    "import itertools"
   ]
  },
  {
   "cell_type": "markdown",
   "id": "251a9a01",
   "metadata": {},
   "source": [
    "Desafio 01\n",
    "Crie uma função que retorna os valores de duas listas de forma intercalada, mesmo quando as listas\n",
    "têm tamanho diferente. Por exemplo, dadas as listas:\n",
    "L1 = [1, 2, 3]\n",
    "L2 = ['a', 'b', 'c', 'd', 'e']\n",
    "A função deve retornar:\n",
    "[1, 'a', 2, 'b', 3, 'c', 'd', 'e']\n",
    " "
   ]
  },
  {
   "cell_type": "code",
   "execution_count": 15,
   "id": "f8f67244",
   "metadata": {},
   "outputs": [
    {
     "data": {
      "text/plain": [
       "[1, 'a', 2, 'b', 3, 'c', 'd', 'e']"
      ]
     },
     "execution_count": 15,
     "metadata": {},
     "output_type": "execute_result"
    }
   ],
   "source": [
    "l1 = [1, 2, 3]\n",
    "l2 = ['a', 'b', 'c', 'd', 'e']\n",
    "lista_intercalada = []\n",
    "\n",
    "for a, b in itertools.zip_longest(l1, l2):\n",
    "    if a is not None: \n",
    "        lista_intercalada.append(a) \n",
    "    if b is not None:\n",
    "        lista_intercalada.append(b)\n",
    "\n",
    "lista_intercalada "
   ]
  },
  {
   "cell_type": "markdown",
   "id": "cb564ea0",
   "metadata": {},
   "source": [
    "Desafio 02\n",
    "Imagine que você tem um restaurante com os seguintes itens no seu menu:\n",
    "comidas = {\n",
    " 'Prato Feito': 24.90,\n",
    " 'Salada': 21.90,\n",
    " 'Strogonoff': 29.90,\n",
    " 'Feijoada': 32.90,\n",
    " }\n",
    "bebidas = {\n",
    " 'Água': 3.90,\n",
    " 'Refrigerante': 5.90,\n",
    " 'Suco': 7.90,\n",
    " }\n",
    "Crie um novo dicionário chamado combos onde cada chave é uma tupla contendo (comida, bebida), e o \n",
    "seu respectivo valor é o preço daquela combinação de comida e bebida."
   ]
  },
  {
   "cell_type": "code",
   "execution_count": null,
   "id": "79f01d8e",
   "metadata": {},
   "outputs": [
    {
     "data": {
      "text/plain": [
       "{'Prato Feito e Água': 28.8,\n",
       " 'Prato Feito e Refrigerante': 30.8,\n",
       " 'Prato Feito e Suco': 32.8,\n",
       " 'Salada e Água': 25.8,\n",
       " 'Salada e Refrigerante': 27.8,\n",
       " 'Salada e Suco': 29.8,\n",
       " 'Strogonoff e Água': 33.8,\n",
       " 'Strogonoff e Refrigerante': 35.8,\n",
       " 'Strogonoff e Suco': 37.8,\n",
       " 'Feijoada e Água': 36.8,\n",
       " 'Feijoada e Refrigerante': 38.8,\n",
       " 'Feijoada e Suco': 40.8}"
      ]
     },
     "execution_count": 19,
     "metadata": {},
     "output_type": "execute_result"
    }
   ],
   "source": [
    "combos = {}\n",
    "comidas = {\n",
    " 'Prato Feito': 24.90,\n",
    " 'Salada': 21.90,\n",
    " 'Strogonoff': 29.90,\n",
    " 'Feijoada': 32.90,\n",
    " }\n",
    "bebidas = {\n",
    " 'Água': 3.90,\n",
    " 'Refrigerante': 5.90,\n",
    " 'Suco': 7.90,\n",
    " }\n",
    "\n",
    "for (comida, valor_comida), (bebida, valor_bebida) in itertools.product(comidas.items(), bebidas.items()):\n",
    "    produto = comida + ' e ' + bebida\n",
    "    valor = round(valor_bebida + valor_comida, 2)\n",
    "    combos[produto] = valor\n",
    "\n",
    "combos"
   ]
  },
  {
   "cell_type": "code",
   "execution_count": 25,
   "id": "3427584e",
   "metadata": {},
   "outputs": [
    {
     "data": {
      "text/plain": [
       "{('Prato Feito', 'Água'): 28.8,\n",
       " ('Prato Feito', 'Refrigerante'): 30.8,\n",
       " ('Prato Feito', 'Suco'): 32.8,\n",
       " ('Salada', 'Água'): 25.8,\n",
       " ('Salada', 'Refrigerante'): 27.8,\n",
       " ('Salada', 'Suco'): 29.8,\n",
       " ('Strogonoff', 'Água'): 33.8,\n",
       " ('Strogonoff', 'Refrigerante'): 35.8,\n",
       " ('Strogonoff', 'Suco'): 37.8,\n",
       " ('Feijoada', 'Água'): 36.8,\n",
       " ('Feijoada', 'Refrigerante'): 38.8,\n",
       " ('Feijoada', 'Suco'): 40.8}"
      ]
     },
     "execution_count": 25,
     "metadata": {},
     "output_type": "execute_result"
    }
   ],
   "source": [
    "combos = {}\n",
    "for tupla in itertools.product(comidas.items(), bebidas.items()):\n",
    "    produto = tuple(tup[0] for tup in tupla)\n",
    "    valor = round(sum(tup[1] for tup in tupla), 2)\n",
    "    combos[produto] = valor\n",
    "\n",
    "combos"
   ]
  }
 ],
 "metadata": {
  "kernelspec": {
   "display_name": ".venv",
   "language": "python",
   "name": "python3"
  },
  "language_info": {
   "codemirror_mode": {
    "name": "ipython",
    "version": 3
   },
   "file_extension": ".py",
   "mimetype": "text/x-python",
   "name": "python",
   "nbconvert_exporter": "python",
   "pygments_lexer": "ipython3",
   "version": "3.13.2"
  }
 },
 "nbformat": 4,
 "nbformat_minor": 5
}
