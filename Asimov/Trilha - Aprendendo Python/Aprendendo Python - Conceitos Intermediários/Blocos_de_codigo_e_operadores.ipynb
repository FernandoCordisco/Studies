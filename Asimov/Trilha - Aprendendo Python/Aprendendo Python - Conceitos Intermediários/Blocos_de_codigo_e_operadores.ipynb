{
 "cells": [
  {
   "cell_type": "markdown",
   "id": "4f2214e9",
   "metadata": {},
   "source": [
    "O bloco with"
   ]
  },
  {
   "cell_type": "code",
   "execution_count": 1,
   "id": "6d21ff35",
   "metadata": {},
   "outputs": [],
   "source": [
    "arquivo = open('arquivo.txt', 'w')\n",
    "arquivo.write('Está é uma anotação especial!')\n",
    "arquivo.close()"
   ]
  },
  {
   "cell_type": "code",
   "execution_count": 2,
   "id": "c7390aaa",
   "metadata": {},
   "outputs": [
    {
     "name": "stdout",
     "output_type": "stream",
     "text": [
      "arquivo fechado.\n"
     ]
    }
   ],
   "source": [
    "with open('arquivo.txt', 'w') as arquivo:\n",
    "    arquivo.write('Está é uma anotação especial!')\n",
    "\n",
    "print('arquivo fechado.')"
   ]
  },
  {
   "cell_type": "code",
   "execution_count": null,
   "id": "0986bb44",
   "metadata": {},
   "outputs": [
    {
     "name": "stdout",
     "output_type": "stream",
     "text": [
      "Diretório temporário criado: C:\\Users\\ferna\\AppData\\Local\\Temp\\tmpscfst022\n"
     ]
    }
   ],
   "source": [
    "import tempfile\n",
    "\n",
    "with tempfile.TemporaryDirectory() as temp_dir:\n",
    "    print(f'Diretório temporário criado: {temp_dir}')\n",
    "    input()"
   ]
  },
  {
   "cell_type": "markdown",
   "id": "916c8cb5",
   "metadata": {},
   "source": [
    "O bloco match case"
   ]
  },
  {
   "cell_type": "code",
   "execution_count": 1,
   "id": "9b7cd2c5",
   "metadata": {},
   "outputs": [
    {
     "name": "stdout",
     "output_type": "stream",
     "text": [
      "Opção 1\n"
     ]
    }
   ],
   "source": [
    "op = 1\n",
    "\n",
    "match op:\n",
    "    case 1:\n",
    "        print('Opção 1')\n",
    "    case 2:\n",
    "        print('Opção 2')\n",
    "    case 3:\n",
    "        print('Opção 3')\n",
    "    case _:\n",
    "        print('Opção inválida')"
   ]
  },
  {
   "cell_type": "code",
   "execution_count": 2,
   "id": "04b052e9",
   "metadata": {},
   "outputs": [
    {
     "name": "stdout",
     "output_type": "stream",
     "text": [
      "É int\n"
     ]
    }
   ],
   "source": [
    "op = 1\n",
    "\n",
    "match op:\n",
    "    case int(op):\n",
    "        print('É int')\n",
    "    case str(op):\n",
    "        print('É str')\n",
    "    case _:\n",
    "        print('Opção inválida')"
   ]
  },
  {
   "cell_type": "code",
   "execution_count": 3,
   "id": "a8921609",
   "metadata": {},
   "outputs": [
    {
     "name": "stdout",
     "output_type": "stream",
     "text": [
      "Opção inválida\n"
     ]
    }
   ],
   "source": [
    "op = []\n",
    "\n",
    "match op:\n",
    "    case int(op):\n",
    "        print('É int')\n",
    "    case str(op):\n",
    "        print('É str')\n",
    "    case _: # _ funciona como else\n",
    "        print('Opção inválida')"
   ]
  },
  {
   "cell_type": "code",
   "execution_count": 9,
   "id": "13fbf258",
   "metadata": {},
   "outputs": [
    {
     "name": "stdout",
     "output_type": "stream",
     "text": [
      "Fernando tem 20 anos\n"
     ]
    }
   ],
   "source": [
    "notas = {\n",
    "    'Fernando': 20,\n",
    "    'Letícia': 21,\n",
    "    'Brunna': 37,\n",
    "}\n",
    "\n",
    "match notas:\n",
    "    case {'Fernando': 20}:\n",
    "        print('Fernando tem 20 anos')\n",
    "    case {'Brunna': 37}:\n",
    "        print('Brunna tem 37 anos')\n",
    "    case _: \n",
    "        print('Opção inválida')"
   ]
  },
  {
   "cell_type": "code",
   "execution_count": 11,
   "id": "eeac7619",
   "metadata": {},
   "outputs": [
    {
     "name": "stdout",
     "output_type": "stream",
     "text": [
      "Brunna está no dicionário\n"
     ]
    }
   ],
   "source": [
    "notas = {\n",
    "    'Fernando': 20,\n",
    "    'Letícia': 21,\n",
    "    'Brunna': 37,\n",
    "}\n",
    "\n",
    "match notas:\n",
    "    case {'Fernando': 10}:\n",
    "        print('Fernando tem 10 anos')\n",
    "    case {'Brunna': _}:\n",
    "        print('Brunna está no dicionário')\n",
    "    case _: \n",
    "        print('Opção inválida')"
   ]
  },
  {
   "cell_type": "markdown",
   "id": "14f0cf55",
   "metadata": {},
   "source": [
    "Operadores de divisão"
   ]
  },
  {
   "cell_type": "markdown",
   "id": "59bc07b3",
   "metadata": {},
   "source": [
    "Operador piso (divisão inteira)\n",
    "// - Retorna a divisão sem a parte fracionada.\n",
    "\n",
    "Operador módulo (resto da divisão)\n",
    "% - Retorna o \"resto\" de uma divisão, em unidades inteiras."
   ]
  },
  {
   "cell_type": "code",
   "execution_count": 12,
   "id": "4531a159",
   "metadata": {},
   "outputs": [
    {
     "data": {
      "text/plain": [
       "3.3333333333333335"
      ]
     },
     "execution_count": 12,
     "metadata": {},
     "output_type": "execute_result"
    }
   ],
   "source": [
    "10 / 3"
   ]
  },
  {
   "cell_type": "code",
   "execution_count": 13,
   "id": "9dd517f5",
   "metadata": {},
   "outputs": [
    {
     "data": {
      "text/plain": [
       "3"
      ]
     },
     "execution_count": 13,
     "metadata": {},
     "output_type": "execute_result"
    }
   ],
   "source": [
    "10 // 3"
   ]
  },
  {
   "cell_type": "code",
   "execution_count": 14,
   "id": "863812c8",
   "metadata": {},
   "outputs": [
    {
     "data": {
      "text/plain": [
       "1"
      ]
     },
     "execution_count": 14,
     "metadata": {},
     "output_type": "execute_result"
    }
   ],
   "source": [
    "10 % 3"
   ]
  },
  {
   "cell_type": "code",
   "execution_count": 17,
   "id": "c12fc070",
   "metadata": {},
   "outputs": [
    {
     "name": "stdout",
     "output_type": "stream",
     "text": [
      "1000s representa 16m e 40s.\n"
     ]
    }
   ],
   "source": [
    "segundos_totais = 1000\n",
    "minutos = segundos_totais // 60\n",
    "segundos_restantes = segundos_totais % 60\n",
    "print(f'{segundos_totais}s representa {minutos}m e {segundos_restantes}s.')"
   ]
  },
  {
   "cell_type": "code",
   "execution_count": 18,
   "id": "06778942",
   "metadata": {},
   "outputs": [
    {
     "name": "stdout",
     "output_type": "stream",
     "text": [
      "Número 5 é par? False\n"
     ]
    }
   ],
   "source": [
    "n = 5\n",
    "par = n % 2 == 0\n",
    "print(f'Número {n} é par? {par}')"
   ]
  },
  {
   "cell_type": "code",
   "execution_count": null,
   "id": "f70a1e19",
   "metadata": {},
   "outputs": [
    {
     "data": {
      "text/plain": [
       "[2, 3, 5, 7, 11, 13, 17, 19, 23, 29]"
      ]
     },
     "execution_count": 29,
     "metadata": {},
     "output_type": "execute_result"
    }
   ],
   "source": [
    "#números primos\n",
    "\n",
    "limitador = 30\n",
    "numeros_primos = [2]\n",
    "\n",
    "for i in range(limitador+1):\n",
    "    if i > 1:\n",
    "        for numero_primo in numeros_primos:\n",
    "            if i % numero_primo == 0:\n",
    "                break\n",
    "        else:\n",
    "            numeros_primos.append(i)\n",
    "\n",
    "numeros_primos\n"
   ]
  },
  {
   "cell_type": "markdown",
   "id": "913f5ac5",
   "metadata": {},
   "source": [
    "Expressão condicional"
   ]
  },
  {
   "cell_type": "code",
   "execution_count": 31,
   "id": "c4c60347",
   "metadata": {},
   "outputs": [
    {
     "data": {
      "text/plain": [
       "5"
      ]
     },
     "execution_count": 31,
     "metadata": {},
     "output_type": "execute_result"
    }
   ],
   "source": [
    "x = 2\n",
    "y = 5\n",
    "\n",
    "if x > y:\n",
    "    maior_valor = x\n",
    "if x < y:\n",
    "    maior_valor = y\n",
    "\n",
    "maior_valor"
   ]
  },
  {
   "cell_type": "markdown",
   "id": "5ff66599",
   "metadata": {},
   "source": [
    "VAR = VALOR_VERDADEIRO SE CONDIÇÃO SENÃO VALOR_FALSO"
   ]
  },
  {
   "cell_type": "code",
   "execution_count": 32,
   "id": "e69a9e2f",
   "metadata": {},
   "outputs": [
    {
     "data": {
      "text/plain": [
       "10"
      ]
     },
     "execution_count": 32,
     "metadata": {},
     "output_type": "execute_result"
    }
   ],
   "source": [
    "x = 10\n",
    "y = 5\n",
    "\n",
    "maior_valor = x if x > y else y\n",
    "maior_valor"
   ]
  },
  {
   "cell_type": "code",
   "execution_count": 34,
   "id": "75c10724",
   "metadata": {},
   "outputs": [
    {
     "name": "stdout",
     "output_type": "stream",
     "text": [
      "Valor -1, representa a cor azul.\n",
      "Valor 0, representa a cor azul.\n",
      "Valor 1, representa a cor vermelho.\n"
     ]
    }
   ],
   "source": [
    "def pegar_cor(valor):\n",
    "    return 'vermelho' if valor > 0 else 'azul'\n",
    "\n",
    "for valor in range (-1, 2):\n",
    "    print(f'Valor {valor}, representa a cor {pegar_cor(valor)}.')"
   ]
  },
  {
   "cell_type": "markdown",
   "id": "2c76d283",
   "metadata": {},
   "source": [
    "Identidade e o operador is"
   ]
  },
  {
   "cell_type": "code",
   "execution_count": 38,
   "id": "7b0cd991",
   "metadata": {},
   "outputs": [
    {
     "data": {
      "text/plain": [
       "True"
      ]
     },
     "execution_count": 38,
     "metadata": {},
     "output_type": "execute_result"
    }
   ],
   "source": [
    "lista_a = [1, 2, 3, 4, 5]\n",
    "lista_b = [1, 2, 3, 4, 5]\n",
    "lista_a == lista_b"
   ]
  },
  {
   "cell_type": "code",
   "execution_count": 39,
   "id": "177c3693",
   "metadata": {},
   "outputs": [
    {
     "data": {
      "text/plain": [
       "False"
      ]
     },
     "execution_count": 39,
     "metadata": {},
     "output_type": "execute_result"
    }
   ],
   "source": [
    "lista_b.append(6)\n",
    "lista_a == lista_b"
   ]
  },
  {
   "cell_type": "code",
   "execution_count": 40,
   "id": "db29e41f",
   "metadata": {},
   "outputs": [
    {
     "data": {
      "text/plain": [
       "False"
      ]
     },
     "execution_count": 40,
     "metadata": {},
     "output_type": "execute_result"
    }
   ],
   "source": [
    "lista_a = [1, 2, 3, 4, 5]\n",
    "lista_b = [1, 2, 3, 4, 5]\n",
    "lista_a is lista_b"
   ]
  },
  {
   "cell_type": "code",
   "execution_count": 42,
   "id": "520b6235",
   "metadata": {},
   "outputs": [
    {
     "name": "stdout",
     "output_type": "stream",
     "text": [
      "Valor não é nulo\n"
     ]
    }
   ],
   "source": [
    "valor = 10\n",
    "\n",
    "if valor is None:\n",
    "    print('Valor é nulo')\n",
    "else:\n",
    "    print('Valor não é nulo')"
   ]
  },
  {
   "cell_type": "markdown",
   "id": "5fcbef57",
   "metadata": {},
   "source": [
    "O operador morsa (expressão de atribuição)"
   ]
  },
  {
   "cell_type": "markdown",
   "id": "4afe78d0",
   "metadata": {},
   "source": [
    "Operador morsa :="
   ]
  },
  {
   "cell_type": "code",
   "execution_count": null,
   "id": "afa82d08",
   "metadata": {},
   "outputs": [],
   "source": [
    "valor_de_busca = 'xxx'\n",
    "\n",
    "resultado = buscar_no_banco_de_dados(valor_de_busca)\n",
    "\n",
    "if resultado is None:\n",
    "    print(f'Nada foi encontrado para o valor de busca \"{valor_de_busca}\".')\n",
    "else:\n",
    "    print(f'Resultados encontrados para valor de busca \"{valor_de_busca}\": {resultado}')"
   ]
  },
  {
   "cell_type": "code",
   "execution_count": null,
   "id": "c412aff1",
   "metadata": {},
   "outputs": [],
   "source": [
    "valor_de_busca = 'xxx'\n",
    "\n",
    "if (resultado := buscar_no_banco_de_dados(valor_de_busca))is None:\n",
    "    print(f'Nada foi encontrado para o valor de busca \"{valor_de_busca}\".')\n",
    "else:\n",
    "    print(f'Resultados encontrados para valor de busca \"{valor_de_busca}\": {resultado}')"
   ]
  },
  {
   "cell_type": "code",
   "execution_count": 43,
   "id": "d1871826",
   "metadata": {},
   "outputs": [
    {
     "name": "stdout",
     "output_type": "stream",
     "text": [
      "4\n",
      "3\n",
      "2\n",
      "1\n",
      "0\n"
     ]
    }
   ],
   "source": [
    "n = 5\n",
    "while n > 0:\n",
    "    n -= 1\n",
    "    print(n)"
   ]
  },
  {
   "cell_type": "code",
   "execution_count": null,
   "id": "503e70a9",
   "metadata": {},
   "outputs": [
    {
     "name": "stdout",
     "output_type": "stream",
     "text": [
      "4\n",
      "3\n",
      "2\n",
      "1\n"
     ]
    }
   ],
   "source": [
    "n = 5\n",
    "while (n := n-1) >= 0:\n",
    "    print(n)"
   ]
  }
 ],
 "metadata": {
  "kernelspec": {
   "display_name": ".venv",
   "language": "python",
   "name": "python3"
  },
  "language_info": {
   "codemirror_mode": {
    "name": "ipython",
    "version": 3
   },
   "file_extension": ".py",
   "mimetype": "text/x-python",
   "name": "python",
   "nbconvert_exporter": "python",
   "pygments_lexer": "ipython3",
   "version": "3.13.2"
  }
 },
 "nbformat": 4,
 "nbformat_minor": 5
}
