{
 "cells": [
  {
   "cell_type": "markdown",
   "id": "56027208",
   "metadata": {},
   "source": [
    "Conjuntos e seus métodos"
   ]
  },
  {
   "cell_type": "code",
   "execution_count": 12,
   "id": "0992da0e",
   "metadata": {},
   "outputs": [
    {
     "data": {
      "text/plain": [
       "{1, 2, 3, 4, 5, 6, 9}"
      ]
     },
     "execution_count": 12,
     "metadata": {},
     "output_type": "execute_result"
    }
   ],
   "source": [
    "# set: Conjuntos\n",
    "\n",
    "a = {1, 2, 3, 4, 5, 6}\n",
    "a\n",
    "b = {1, 2, 2, 1, 2, 1}\n",
    "b\n",
    "a.add(9)\n",
    "a\n"
   ]
  },
  {
   "cell_type": "code",
   "execution_count": 13,
   "id": "b38fab77",
   "metadata": {},
   "outputs": [
    {
     "name": "stdout",
     "output_type": "stream",
     "text": [
      "1\n",
      "2\n",
      "3\n",
      "4\n",
      "5\n"
     ]
    }
   ],
   "source": [
    "numeros = [1, 2, 3, 4, 5, 2, 4, 5]\n",
    "numeros_unicos = list(set(numeros))\n",
    "numeros_unicos\n",
    "\n",
    "# Não é possível pegar o index de um conjunto\n",
    "# numeros[0] não funciona\n",
    "\n",
    "for numero in numeros_unicos:\n",
    "    print(numero)"
   ]
  },
  {
   "cell_type": "code",
   "execution_count": null,
   "id": "be8f9977",
   "metadata": {},
   "outputs": [
    {
     "data": {
      "text/plain": [
       "{1, 2, 3, 4, 5, 6}"
      ]
     },
     "execution_count": 14,
     "metadata": {},
     "output_type": "execute_result"
    }
   ],
   "source": [
    "# União de conjuntos\n",
    "a = {3, 4, 5, 6}\n",
    "b = {1, 2, 2, 1, 2, 1,}\n",
    "a.union(b)"
   ]
  },
  {
   "cell_type": "code",
   "execution_count": null,
   "id": "92334d57",
   "metadata": {},
   "outputs": [
    {
     "data": {
      "text/plain": [
       "{3, 4}"
      ]
     },
     "execution_count": 15,
     "metadata": {},
     "output_type": "execute_result"
    }
   ],
   "source": [
    "# Elementos comuns \n",
    "a = {3, 4, 5, 6}\n",
    "b = {1, 2, 3, 4}\n",
    "a.intersection(b)"
   ]
  },
  {
   "cell_type": "code",
   "execution_count": null,
   "id": "a96e38ff",
   "metadata": {},
   "outputs": [
    {
     "data": {
      "text/plain": [
       "{1, 2}"
      ]
     },
     "execution_count": 17,
     "metadata": {},
     "output_type": "execute_result"
    }
   ],
   "source": [
    "# Elementos diferentes (pegando somente o que sobra do primeiro conjunto informado)\n",
    "a = {3, 4, 5, 6}\n",
    "b = {1, 2, 3, 4}\n",
    "a.difference(b)\n",
    "b.difference(a)"
   ]
  },
  {
   "cell_type": "code",
   "execution_count": 18,
   "id": "309ffa1e",
   "metadata": {},
   "outputs": [
    {
     "data": {
      "text/plain": [
       "{1, 2, 5, 6}"
      ]
     },
     "execution_count": 18,
     "metadata": {},
     "output_type": "execute_result"
    }
   ],
   "source": [
    "# Elementos diferentes \n",
    "a = {3, 4, 5, 6}\n",
    "b = {1, 2, 3, 4}\n",
    "a.symmetric_difference(b)"
   ]
  },
  {
   "cell_type": "code",
   "execution_count": 25,
   "id": "7eb34df0",
   "metadata": {},
   "outputs": [
    {
     "name": "stdout",
     "output_type": "stream",
     "text": [
      "3.98 μs ± 49.2 ns per loop (mean ± std. dev. of 7 runs, 100,000 loops each)\n"
     ]
    }
   ],
   "source": [
    "numeros = list(range(1000))\n",
    "numeros\n",
    "%timeit 500 in numeros"
   ]
  },
  {
   "cell_type": "code",
   "execution_count": 28,
   "id": "ab703c5e",
   "metadata": {},
   "outputs": [
    {
     "name": "stdout",
     "output_type": "stream",
     "text": [
      "40.7 ns ± 2.48 ns per loop (mean ± std. dev. of 7 runs, 10,000,000 loops each)\n"
     ]
    }
   ],
   "source": [
    "conjunto_numeros = set(list(range(1000)))\n",
    "%timeit 500 in conjunto_numeros"
   ]
  }
 ],
 "metadata": {
  "kernelspec": {
   "display_name": ".venv",
   "language": "python",
   "name": "python3"
  },
  "language_info": {
   "codemirror_mode": {
    "name": "ipython",
    "version": 3
   },
   "file_extension": ".py",
   "mimetype": "text/x-python",
   "name": "python",
   "nbconvert_exporter": "python",
   "pygments_lexer": "ipython3",
   "version": "3.13.2"
  }
 },
 "nbformat": 4,
 "nbformat_minor": 5
}
