{
 "cells": [
  {
   "cell_type": "markdown",
   "id": "7e06cec1",
   "metadata": {},
   "source": [
    "Argumentos arbitrários com *args e **kwargs"
   ]
  },
  {
   "cell_type": "code",
   "execution_count": 2,
   "id": "1c3d2d8b",
   "metadata": {},
   "outputs": [
    {
     "data": {
      "text/plain": [
       "6"
      ]
     },
     "execution_count": 2,
     "metadata": {},
     "output_type": "execute_result"
    }
   ],
   "source": [
    "def somar(a, b, c):\n",
    "    return a + b + c\n",
    "somar(1, 2, 3)"
   ]
  },
  {
   "cell_type": "code",
   "execution_count": 3,
   "id": "433fb272",
   "metadata": {},
   "outputs": [
    {
     "ename": "TypeError",
     "evalue": "somar() takes 3 positional arguments but 4 were given",
     "output_type": "error",
     "traceback": [
      "\u001b[31m---------------------------------------------------------------------------\u001b[39m",
      "\u001b[31mTypeError\u001b[39m                                 Traceback (most recent call last)",
      "\u001b[36mCell\u001b[39m\u001b[36m \u001b[39m\u001b[32mIn[3]\u001b[39m\u001b[32m, line 3\u001b[39m\n\u001b[32m      1\u001b[39m \u001b[38;5;28;01mdef\u001b[39;00m\u001b[38;5;250m \u001b[39m\u001b[34msomar\u001b[39m(a, b, c):\n\u001b[32m      2\u001b[39m     \u001b[38;5;28;01mreturn\u001b[39;00m a + b + c\n\u001b[32m----> \u001b[39m\u001b[32m3\u001b[39m \u001b[43msomar\u001b[49m\u001b[43m(\u001b[49m\u001b[32;43m1\u001b[39;49m\u001b[43m,\u001b[49m\u001b[43m \u001b[49m\u001b[32;43m2\u001b[39;49m\u001b[43m,\u001b[49m\u001b[43m \u001b[49m\u001b[32;43m3\u001b[39;49m\u001b[43m,\u001b[49m\u001b[43m \u001b[49m\u001b[32;43m4\u001b[39;49m\u001b[43m)\u001b[49m\n",
      "\u001b[31mTypeError\u001b[39m: somar() takes 3 positional arguments but 4 were given"
     ]
    }
   ],
   "source": [
    "def somar(a, b, c):\n",
    "    return a + b + c\n",
    "somar(1, 2, 3, 4)"
   ]
  },
  {
   "cell_type": "code",
   "execution_count": 4,
   "id": "bababd9c",
   "metadata": {},
   "outputs": [
    {
     "data": {
      "text/plain": [
       "26"
      ]
     },
     "execution_count": 4,
     "metadata": {},
     "output_type": "execute_result"
    }
   ],
   "source": [
    "def somar(*valores): # Não tem limite\n",
    "    return sum(valores)\n",
    "somar(1, 2, 3, 5, 7, 8)"
   ]
  },
  {
   "cell_type": "code",
   "execution_count": null,
   "id": "635587cc",
   "metadata": {},
   "outputs": [],
   "source": [
    "def somar(*valores1, **valores2 ): \n",
    "    return sum(valores1)\n",
    "somar(1, 2, 3, x=1, y=2)"
   ]
  },
  {
   "cell_type": "code",
   "execution_count": 5,
   "id": "527ac142",
   "metadata": {},
   "outputs": [
    {
     "name": "stdout",
     "output_type": "stream",
     "text": [
      "Argumentos sem palavra-chave: (1, 2, 3)\n",
      "Argumentos com palavra-chave: {'x': 1, 'y': 2}\n"
     ]
    }
   ],
   "source": [
    "def exibe_arugmentos(*args, **kwargs ): # args: argumentos qualquer /  kwargs: argumentos com palavras-chaves\n",
    "    print(f'Argumentos sem palavra-chave: {args}')\n",
    "    print(f'Argumentos com palavra-chave: {kwargs}')\n",
    "exibe_arugmentos(1, 2, 3, x=1, y=2)"
   ]
  },
  {
   "cell_type": "code",
   "execution_count": 7,
   "id": "545615d4",
   "metadata": {},
   "outputs": [
    {
     "name": "stdout",
     "output_type": "stream",
     "text": [
      "Argumentos sem palavra-chave: ([1, 2, 3, 4, 5],)\n",
      "Argumentos com palavra-chave: {'dic': {'Nome': 'Fernando', 'Idade': 20}}\n"
     ]
    }
   ],
   "source": [
    "def exibe_arugmentos(*args, **kwargs ): # args: argumentos qualquer /  kwargs: argumentos com palavras-chaves\n",
    "    print(f'Argumentos sem palavra-chave: {args}')\n",
    "    print(f'Argumentos com palavra-chave: {kwargs}')\n",
    "\n",
    "valores = [1, 2, 3, 4, 5]\n",
    "dic = {\n",
    "    'Nome': 'Fernando',\n",
    "    'Idade': 20\n",
    "}\n",
    "exibe_arugmentos(valores, dic=dic)"
   ]
  },
  {
   "cell_type": "code",
   "execution_count": 12,
   "id": "65058045",
   "metadata": {},
   "outputs": [
    {
     "name": "stdout",
     "output_type": "stream",
     "text": [
      "Argumentos sem palavra-chave: (1, 2, 3, 4, 5)\n",
      "Argumentos com palavra-chave: {'Nome': 'Fernando', 'Idade': 20}\n"
     ]
    }
   ],
   "source": [
    "exibe_arugmentos(*valores, **dic)"
   ]
  },
  {
   "cell_type": "markdown",
   "id": "8b21815d",
   "metadata": {},
   "source": [
    "Funções built-in relevantes"
   ]
  },
  {
   "cell_type": "code",
   "execution_count": 13,
   "id": "c75b53d2",
   "metadata": {},
   "outputs": [
    {
     "name": "stdout",
     "output_type": "stream",
     "text": [
      "Valor é do tipo int\n"
     ]
    }
   ],
   "source": [
    "# isinstance\n",
    "valor = 2\n",
    "if isinstance(valor, int):\n",
    "    print('Valor é do tipo int')\n",
    "else:\n",
    "    print('Não é do tipo int')"
   ]
  },
  {
   "cell_type": "code",
   "execution_count": null,
   "id": "ddd7c559",
   "metadata": {},
   "outputs": [],
   "source": [
    "valor = 2.2\n",
    "if isinstance(valor, (int, float)): # qualquer um dos tipos é valido\n",
    "    print('Valor é do numérico.')\n",
    "else:\n",
    "    print('Não é numérico.')"
   ]
  },
  {
   "cell_type": "code",
   "execution_count": null,
   "id": "5ce1b74c",
   "metadata": {},
   "outputs": [
    {
     "data": {
      "text/plain": [
       "False"
      ]
     },
     "execution_count": 14,
     "metadata": {},
     "output_type": "execute_result"
    }
   ],
   "source": [
    "# any e all \n",
    "booleanos = [True, False, True]\n",
    "all(booleanos) # Valida se todos são verdadeiros"
   ]
  },
  {
   "cell_type": "code",
   "execution_count": null,
   "id": "0b8a1a31",
   "metadata": {},
   "outputs": [
    {
     "data": {
      "text/plain": [
       "True"
      ]
     },
     "execution_count": 15,
     "metadata": {},
     "output_type": "execute_result"
    }
   ],
   "source": [
    "any(booleanos) # valida se algum é verdadeiro"
   ]
  },
  {
   "cell_type": "code",
   "execution_count": 17,
   "id": "2d526fa7",
   "metadata": {},
   "outputs": [
    {
     "name": "stdout",
     "output_type": "stream",
     "text": [
      "Nenhum valor é int.\n"
     ]
    }
   ],
   "source": [
    "#valores = [1, 2, 2.5, 3]\n",
    "valores = 'arroz', 'feijão'\n",
    "if all(isinstance(valor, int) for valor in valores):\n",
    "    print('Todos os valores são int.')\n",
    "elif any(isinstance(valor, int) for valor in valores):\n",
    "    print('Algum valor é int.')\n",
    "else:\n",
    "    print('Nenhum valor é int.')\n"
   ]
  },
  {
   "cell_type": "code",
   "execution_count": 19,
   "id": "396fb464",
   "metadata": {},
   "outputs": [
    {
     "data": {
      "text/plain": [
       "[7, 9, 11, 12]"
      ]
     },
     "execution_count": 19,
     "metadata": {},
     "output_type": "execute_result"
    }
   ],
   "source": [
    "# map\n",
    "\n",
    "def somar_dois(n):\n",
    "    return n + 2\n",
    "\n",
    "numeros = [5, 7, 9, 10]\n",
    "\n",
    "mapa = map(somar_dois, numeros)\n",
    "\n",
    "list(mapa)"
   ]
  },
  {
   "cell_type": "code",
   "execution_count": 27,
   "id": "6165da44",
   "metadata": {},
   "outputs": [
    {
     "data": {
      "text/plain": [
       "[7, 9, 10]"
      ]
     },
     "execution_count": 27,
     "metadata": {},
     "output_type": "execute_result"
    }
   ],
   "source": [
    "# filter\n",
    "\n",
    "def meu_filtro(n):\n",
    "    return n > 5\n",
    "\n",
    "'''\n",
    "maior_que_cinco = [n for n in numeros if meu_filtro(n)]\n",
    "maior_que_cinco\n",
    "'''\n",
    "\n",
    "filtro = filter(meu_filtro, numeros)\n",
    "list(filtro)\n"
   ]
  }
 ],
 "metadata": {
  "kernelspec": {
   "display_name": ".venv",
   "language": "python",
   "name": "python3"
  },
  "language_info": {
   "codemirror_mode": {
    "name": "ipython",
    "version": 3
   },
   "file_extension": ".py",
   "mimetype": "text/x-python",
   "name": "python",
   "nbconvert_exporter": "python",
   "pygments_lexer": "ipython3",
   "version": "3.13.2"
  }
 },
 "nbformat": 4,
 "nbformat_minor": 5
}
