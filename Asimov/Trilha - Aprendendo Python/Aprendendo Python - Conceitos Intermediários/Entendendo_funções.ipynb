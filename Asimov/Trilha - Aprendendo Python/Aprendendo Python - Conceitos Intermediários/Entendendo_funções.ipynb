{
 "cells": [
  {
   "cell_type": "markdown",
   "id": "7e06cec1",
   "metadata": {},
   "source": [
    "Argumentos arbitrários com *args e **kwargs"
   ]
  },
  {
   "cell_type": "code",
   "execution_count": null,
   "id": "1c3d2d8b",
   "metadata": {},
   "outputs": [
    {
     "data": {
      "text/plain": [
       "6"
      ]
     },
     "execution_count": 2,
     "metadata": {},
     "output_type": "execute_result"
    }
   ],
   "source": [
    "def somar(a, b, c):\n",
    "    return a + b + c\n",
    "somar(1, 2, 3)"
   ]
  },
  {
   "cell_type": "code",
   "execution_count": null,
   "id": "433fb272",
   "metadata": {},
   "outputs": [
    {
     "ename": "TypeError",
     "evalue": "somar() takes 3 positional arguments but 4 were given",
     "output_type": "error",
     "traceback": [
      "\u001b[31m---------------------------------------------------------------------------\u001b[39m",
      "\u001b[31mTypeError\u001b[39m                                 Traceback (most recent call last)",
      "\u001b[36mCell\u001b[39m\u001b[36m \u001b[39m\u001b[32mIn[3]\u001b[39m\u001b[32m, line 3\u001b[39m\n\u001b[32m      1\u001b[39m \u001b[38;5;28;01mdef\u001b[39;00m\u001b[38;5;250m \u001b[39m\u001b[34msomar\u001b[39m(a, b, c):\n\u001b[32m      2\u001b[39m     \u001b[38;5;28;01mreturn\u001b[39;00m a + b + c\n\u001b[32m----> \u001b[39m\u001b[32m3\u001b[39m \u001b[43msomar\u001b[49m\u001b[43m(\u001b[49m\u001b[32;43m1\u001b[39;49m\u001b[43m,\u001b[49m\u001b[43m \u001b[49m\u001b[32;43m2\u001b[39;49m\u001b[43m,\u001b[49m\u001b[43m \u001b[49m\u001b[32;43m3\u001b[39;49m\u001b[43m,\u001b[49m\u001b[43m \u001b[49m\u001b[32;43m4\u001b[39;49m\u001b[43m)\u001b[49m\n",
      "\u001b[31mTypeError\u001b[39m: somar() takes 3 positional arguments but 4 were given"
     ]
    }
   ],
   "source": [
    "def somar(a, b, c):\n",
    "    return a + b + c\n",
    "somar(1, 2, 3, 4)"
   ]
  },
  {
   "cell_type": "code",
   "execution_count": null,
   "id": "bababd9c",
   "metadata": {},
   "outputs": [
    {
     "data": {
      "text/plain": [
       "26"
      ]
     },
     "execution_count": 4,
     "metadata": {},
     "output_type": "execute_result"
    }
   ],
   "source": [
    "def somar(*valores): # Não tem limite\n",
    "    return sum(valores)\n",
    "somar(1, 2, 3, 5, 7, 8)"
   ]
  },
  {
   "cell_type": "code",
   "execution_count": null,
   "id": "635587cc",
   "metadata": {},
   "outputs": [],
   "source": [
    "def somar(*valores1, **valores2 ): \n",
    "    return sum(valores1)\n",
    "somar(1, 2, 3, x=1, y=2)"
   ]
  },
  {
   "cell_type": "code",
   "execution_count": null,
   "id": "527ac142",
   "metadata": {},
   "outputs": [
    {
     "name": "stdout",
     "output_type": "stream",
     "text": [
      "Argumentos sem palavra-chave: (1, 2, 3)\n",
      "Argumentos com palavra-chave: {'x': 1, 'y': 2}\n"
     ]
    }
   ],
   "source": [
    "def exibe_arugmentos(*args, **kwargs ): # args: argumentos qualquer /  kwargs: argumentos com palavras-chaves\n",
    "    print(f'Argumentos sem palavra-chave: {args}')\n",
    "    print(f'Argumentos com palavra-chave: {kwargs}')\n",
    "exibe_arugmentos(1, 2, 3, x=1, y=2)"
   ]
  },
  {
   "cell_type": "code",
   "execution_count": null,
   "id": "545615d4",
   "metadata": {},
   "outputs": [
    {
     "name": "stdout",
     "output_type": "stream",
     "text": [
      "Argumentos sem palavra-chave: ([1, 2, 3, 4, 5],)\n",
      "Argumentos com palavra-chave: {'dic': {'Nome': 'Fernando', 'Idade': 20}}\n"
     ]
    }
   ],
   "source": [
    "def exibe_arugmentos(*args, **kwargs ): # args: argumentos qualquer /  kwargs: argumentos com palavras-chaves\n",
    "    print(f'Argumentos sem palavra-chave: {args}')\n",
    "    print(f'Argumentos com palavra-chave: {kwargs}')\n",
    "\n",
    "valores = [1, 2, 3, 4, 5]\n",
    "dic = {\n",
    "    'Nome': 'Fernando',\n",
    "    'Idade': 20\n",
    "}\n",
    "exibe_arugmentos(valores, dic=dic)"
   ]
  },
  {
   "cell_type": "code",
   "execution_count": null,
   "id": "65058045",
   "metadata": {},
   "outputs": [
    {
     "name": "stdout",
     "output_type": "stream",
     "text": [
      "Argumentos sem palavra-chave: (1, 2, 3, 4, 5)\n",
      "Argumentos com palavra-chave: {'Nome': 'Fernando', 'Idade': 20}\n"
     ]
    }
   ],
   "source": [
    "exibe_arugmentos(*valores, **dic)"
   ]
  },
  {
   "cell_type": "markdown",
   "id": "8b21815d",
   "metadata": {},
   "source": [
    "Funções built-in relevantes"
   ]
  },
  {
   "cell_type": "code",
   "execution_count": null,
   "id": "c75b53d2",
   "metadata": {},
   "outputs": [
    {
     "name": "stdout",
     "output_type": "stream",
     "text": [
      "Valor é do tipo int\n"
     ]
    }
   ],
   "source": [
    "# isinstance\n",
    "valor = 2\n",
    "if isinstance(valor, int):\n",
    "    print('Valor é do tipo int')\n",
    "else:\n",
    "    print('Não é do tipo int')"
   ]
  },
  {
   "cell_type": "code",
   "execution_count": null,
   "id": "ddd7c559",
   "metadata": {},
   "outputs": [],
   "source": [
    "valor = 2.2\n",
    "if isinstance(valor, (int, float)): # qualquer um dos tipos é valido\n",
    "    print('Valor é do numérico.')\n",
    "else:\n",
    "    print('Não é numérico.')"
   ]
  },
  {
   "cell_type": "code",
   "execution_count": null,
   "id": "5ce1b74c",
   "metadata": {},
   "outputs": [
    {
     "data": {
      "text/plain": [
       "False"
      ]
     },
     "execution_count": 14,
     "metadata": {},
     "output_type": "execute_result"
    }
   ],
   "source": [
    "# any e all \n",
    "booleanos = [True, False, True]\n",
    "all(booleanos) # Valida se todos são verdadeiros"
   ]
  },
  {
   "cell_type": "code",
   "execution_count": null,
   "id": "0b8a1a31",
   "metadata": {},
   "outputs": [
    {
     "data": {
      "text/plain": [
       "True"
      ]
     },
     "execution_count": 15,
     "metadata": {},
     "output_type": "execute_result"
    }
   ],
   "source": [
    "any(booleanos) # valida se algum é verdadeiro"
   ]
  },
  {
   "cell_type": "code",
   "execution_count": null,
   "id": "2d526fa7",
   "metadata": {},
   "outputs": [
    {
     "name": "stdout",
     "output_type": "stream",
     "text": [
      "Nenhum valor é int.\n"
     ]
    }
   ],
   "source": [
    "#valores = [1, 2, 2.5, 3]\n",
    "valores = 'arroz', 'feijão'\n",
    "if all(isinstance(valor, int) for valor in valores):\n",
    "    print('Todos os valores são int.')\n",
    "elif any(isinstance(valor, int) for valor in valores):\n",
    "    print('Algum valor é int.')\n",
    "else:\n",
    "    print('Nenhum valor é int.')\n"
   ]
  },
  {
   "cell_type": "code",
   "execution_count": null,
   "id": "396fb464",
   "metadata": {},
   "outputs": [
    {
     "data": {
      "text/plain": [
       "[7, 9, 11, 12]"
      ]
     },
     "execution_count": 19,
     "metadata": {},
     "output_type": "execute_result"
    }
   ],
   "source": [
    "# map\n",
    "\n",
    "def somar_dois(n):\n",
    "    return n + 2\n",
    "\n",
    "numeros = [5, 7, 9, 10]\n",
    "\n",
    "mapa = map(somar_dois, numeros)\n",
    "\n",
    "list(mapa)"
   ]
  },
  {
   "cell_type": "code",
   "execution_count": null,
   "id": "6165da44",
   "metadata": {},
   "outputs": [
    {
     "data": {
      "text/plain": [
       "[7, 9, 10]"
      ]
     },
     "execution_count": 27,
     "metadata": {},
     "output_type": "execute_result"
    }
   ],
   "source": [
    "# filter\n",
    "\n",
    "def meu_filtro(n):\n",
    "    return n > 5\n",
    "\n",
    "'''\n",
    "maior_que_cinco = [n for n in numeros if meu_filtro(n)]\n",
    "maior_que_cinco\n",
    "'''\n",
    "\n",
    "filtro = filter(meu_filtro, numeros)\n",
    "list(filtro)\n"
   ]
  },
  {
   "cell_type": "markdown",
   "id": "42a312f0",
   "metadata": {},
   "source": [
    "Funções lambda (anônimas)"
   ]
  },
  {
   "cell_type": "code",
   "execution_count": null,
   "id": "6308556f",
   "metadata": {},
   "outputs": [
    {
     "data": {
      "text/plain": [
       "[3, 4, 5]"
      ]
     },
     "execution_count": 1,
     "metadata": {},
     "output_type": "execute_result"
    }
   ],
   "source": [
    "def meu_filtro(x):\n",
    "    return x > 2\n",
    "\n",
    "filtro = filter(meu_filtro, [1, 2, 3, 4, 5])\n",
    "list(filtro)"
   ]
  },
  {
   "cell_type": "code",
   "execution_count": null,
   "id": "1cca5999",
   "metadata": {},
   "outputs": [
    {
     "data": {
      "text/plain": [
       "[2, 3, 4, 5]"
      ]
     },
     "execution_count": 3,
     "metadata": {},
     "output_type": "execute_result"
    }
   ],
   "source": [
    "# Define uma função em uma linha\n",
    "\n",
    "filtro = filter(lambda x: x > 1, [1, 2, 3, 4, 5])\n",
    "list(filtro)"
   ]
  },
  {
   "cell_type": "code",
   "execution_count": null,
   "id": "edfa0ceb",
   "metadata": {},
   "outputs": [
    {
     "data": {
      "text/plain": [
       "['3', '4', '5']"
      ]
     },
     "execution_count": 4,
     "metadata": {},
     "output_type": "execute_result"
    }
   ],
   "source": [
    "mapa = map(lambda x: str(x + 2), [1, 2, 3])\n",
    "list(mapa)"
   ]
  },
  {
   "cell_type": "code",
   "execution_count": null,
   "id": "8d1aaa5a",
   "metadata": {},
   "outputs": [
    {
     "data": {
      "text/plain": [
       "[1, '.', '22', 'abc', 3, 4, 5.6]"
      ]
     },
     "execution_count": 6,
     "metadata": {},
     "output_type": "execute_result"
    }
   ],
   "source": [
    "lista = ['abc', 1, 3, 4, 5.6, '.', '22']\n",
    "lista_ordenada = sorted(lista, key=lambda x: len(x) if isinstance(x, str) else x)\n",
    "lista_ordenada"
   ]
  },
  {
   "cell_type": "markdown",
   "id": "1969ee51",
   "metadata": {},
   "source": [
    "Decoradores"
   ]
  },
  {
   "cell_type": "code",
   "execution_count": null,
   "id": "5e2901e3",
   "metadata": {},
   "outputs": [
    {
     "name": "stdout",
     "output_type": "stream",
     "text": [
      "2\n"
     ]
    }
   ],
   "source": [
    "def func():\n",
    "    return 2\n",
    "\n",
    "minha_funcao = func\n",
    "retorno = minha_funcao()\n",
    "\n",
    "print(retorno)"
   ]
  },
  {
   "cell_type": "code",
   "execution_count": null,
   "id": "c18181f3",
   "metadata": {},
   "outputs": [
    {
     "name": "stdout",
     "output_type": "stream",
     "text": [
      "Objeto de função recebido: <function func at 0x000001E8CFC4A980>\n",
      "Nome da função: func\n"
     ]
    }
   ],
   "source": [
    "def func():\n",
    "    return 2\n",
    "\n",
    "def exibe_func(f):\n",
    "    print(f'Objeto de função recebido: {f}')\n",
    "    print(f'Nome da função: {f.__name__}')\n",
    "    \n",
    "exibe_func(func)"
   ]
  },
  {
   "cell_type": "code",
   "execution_count": null,
   "id": "8814f7d0",
   "metadata": {},
   "outputs": [
    {
     "data": {
      "text/plain": [
       "5"
      ]
     },
     "execution_count": 10,
     "metadata": {},
     "output_type": "execute_result"
    }
   ],
   "source": [
    "def func_externa(x):\n",
    "    def func_interna():\n",
    "        return x + 2\n",
    "    valor = func_interna()\n",
    "    return valor\n",
    "\n",
    "resultado = func_externa(3)\n",
    "resultado"
   ]
  },
  {
   "cell_type": "code",
   "execution_count": null,
   "id": "b2fb3011",
   "metadata": {},
   "outputs": [
    {
     "data": {
      "text/plain": [
       "6"
      ]
     },
     "execution_count": 13,
     "metadata": {},
     "output_type": "execute_result"
    }
   ],
   "source": [
    "def func_externa(x):\n",
    "    def func_interna(y):\n",
    "        return x + y + 2\n",
    "    return func_interna\n",
    "\n",
    "f = func_externa(2)\n",
    "f(2)"
   ]
  },
  {
   "cell_type": "code",
   "execution_count": null,
   "id": "b6d4d30a",
   "metadata": {},
   "outputs": [],
   "source": [
    "from meus_decoradores import fazer_duas_vezes, medir_tempo"
   ]
  },
  {
   "cell_type": "code",
   "execution_count": null,
   "id": "8e2acfef",
   "metadata": {},
   "outputs": [
    {
     "name": "stdout",
     "output_type": "stream",
     "text": [
      "!!!\n",
      "!!!\n"
     ]
    }
   ],
   "source": [
    "@fazer_duas_vezes\n",
    "def printar_exclamacoes():\n",
    "    print('!!!')\n",
    "    \n",
    "printar_exclamacoes()"
   ]
  },
  {
   "cell_type": "code",
   "execution_count": null,
   "id": "cd568bcf",
   "metadata": {},
   "outputs": [
    {
     "name": "stdout",
     "output_type": "stream",
     "text": [
      "!!!\n",
      "A função printar_exclamacoes levou 0.00038 segundos para executar.\n"
     ]
    }
   ],
   "source": [
    "@medir_tempo\n",
    "def printar_exclamacoes():\n",
    "    print('!!!')\n",
    "    \n",
    "printar_exclamacoes()"
   ]
  },
  {
   "cell_type": "markdown",
   "id": "75a53834",
   "metadata": {},
   "source": [
    "Como decoradores funcionam"
   ]
  },
  {
   "cell_type": "code",
   "execution_count": null,
   "id": "530c06db",
   "metadata": {},
   "outputs": [
    {
     "name": "stdout",
     "output_type": "stream",
     "text": [
      "Ola, Fernando!\n"
     ]
    }
   ],
   "source": [
    "def dizer_oi(nome):\n",
    "    print(f'Ola, {nome}!')\n",
    "\n",
    "resultado = dizer_oi(\"Fernando\")\n",
    "resultado"
   ]
  },
  {
   "cell_type": "code",
   "execution_count": null,
   "id": "f9a9eacb",
   "metadata": {},
   "outputs": [
    {
     "data": {
      "text/plain": [
       "'OLA, FERNANDO!'"
      ]
     },
     "execution_count": 11,
     "metadata": {},
     "output_type": "execute_result"
    }
   ],
   "source": [
    "def dizer_oi(nome):\n",
    "    return f'Ola, {nome}!'\n",
    "\n",
    "def meu_decorador(func):\n",
    "    def meu_pacote(nome):\n",
    "        retorno = func(nome = nome)\n",
    "        return retorno.upper()\n",
    "    return meu_pacote\n",
    "\n",
    "meu_pacote = meu_decorador(func=dizer_oi)\n",
    "meu_pacote('Fernando')"
   ]
  },
  {
   "cell_type": "code",
   "execution_count": null,
   "id": "76ecc95d",
   "metadata": {},
   "outputs": [
    {
     "data": {
      "text/plain": [
       "'OLA, FERNANDO!'"
      ]
     },
     "execution_count": 12,
     "metadata": {},
     "output_type": "execute_result"
    }
   ],
   "source": [
    "def dizer_oi(nome):\n",
    "    return f'Ola, {nome}!'\n",
    "\n",
    "def meu_decorador(func):\n",
    "    def meu_pacote(*args, **kwargs):\n",
    "        retorno = func(*args, **kwargs)\n",
    "        return retorno.upper()\n",
    "    return meu_pacote\n",
    "\n",
    "dizer_oi = meu_decorador(func=dizer_oi)\n",
    "dizer_oi('Fernando')"
   ]
  },
  {
   "cell_type": "code",
   "execution_count": null,
   "id": "4c122d8c",
   "metadata": {},
   "outputs": [
    {
     "data": {
      "text/plain": [
       "'OLA, FERNANDO!'"
      ]
     },
     "execution_count": 13,
     "metadata": {},
     "output_type": "execute_result"
    }
   ],
   "source": [
    "def meu_decorador(func):\n",
    "    def meu_pacote(*args, **kwargs):\n",
    "        retorno = func(*args, **kwargs)\n",
    "        return retorno.upper()\n",
    "    return meu_pacote\n",
    "\n",
    "@meu_decorador # = dizer_oi = meu_decorador(func=dizer_oi)\n",
    "def dizer_oi(nome):\n",
    "    return f'Ola, {nome}!'\n",
    "\n",
    "\n",
    "dizer_oi('Fernando')"
   ]
  },
  {
   "cell_type": "markdown",
   "id": "c7ee42ab",
   "metadata": {},
   "source": [
    "Utilidades do módulo functools"
   ]
  },
  {
   "cell_type": "code",
   "execution_count": 2,
   "id": "711f83c8",
   "metadata": {},
   "outputs": [],
   "source": [
    "import functools"
   ]
  },
  {
   "cell_type": "markdown",
   "id": "a5c4860f",
   "metadata": {},
   "source": [
    "functools.cache"
   ]
  },
  {
   "cell_type": "code",
   "execution_count": null,
   "id": "53c636e1",
   "metadata": {},
   "outputs": [
    {
     "name": "stdout",
     "output_type": "stream",
     "text": [
      "Valor de n = 4\n",
      "Valor de n = 3\n",
      "Valor de n = 2\n",
      "Valor de n = 1\n"
     ]
    },
    {
     "data": {
      "text/plain": [
       "24"
      ]
     },
     "execution_count": 18,
     "metadata": {},
     "output_type": "execute_result"
    }
   ],
   "source": [
    "@functools.cache\n",
    "def fatorial(n):\n",
    "    print(f'Valor de n = {n}')\n",
    "    if n == 1:\n",
    "        return n\n",
    "    return n * fatorial(n-1)\n",
    "\n",
    "fatorial(4)"
   ]
  },
  {
   "cell_type": "code",
   "execution_count": null,
   "id": "53bc1900",
   "metadata": {},
   "outputs": [
    {
     "data": {
      "text/plain": [
       "24"
      ]
     },
     "execution_count": 19,
     "metadata": {},
     "output_type": "execute_result"
    }
   ],
   "source": [
    "fatorial(4)"
   ]
  },
  {
   "cell_type": "markdown",
   "id": "ce78d5d8",
   "metadata": {},
   "source": [
    "functools.partial"
   ]
  },
  {
   "cell_type": "code",
   "execution_count": 3,
   "id": "934059cc",
   "metadata": {},
   "outputs": [
    {
     "data": {
      "text/plain": [
       "10"
      ]
     },
     "execution_count": 3,
     "metadata": {},
     "output_type": "execute_result"
    }
   ],
   "source": [
    "def somar(a , b):\n",
    "    return a + b \n",
    "\n",
    "somar_dois = functools.partial(somar, 2)\n",
    "somar_dois(4)\n",
    "\n",
    "pegar_10 = functools.partial(somar, 5, 5)\n",
    "pegar_10()"
   ]
  }
 ],
 "metadata": {
  "kernelspec": {
   "display_name": "base",
   "language": "python",
   "name": "python3"
  },
  "language_info": {
   "codemirror_mode": {
    "name": "ipython",
    "version": 3
   },
   "file_extension": ".py",
   "mimetype": "text/x-python",
   "name": "python",
   "nbconvert_exporter": "python",
   "pygments_lexer": "ipython3",
   "version": "3.13.2"
  }
 },
 "nbformat": 4,
 "nbformat_minor": 5
}
