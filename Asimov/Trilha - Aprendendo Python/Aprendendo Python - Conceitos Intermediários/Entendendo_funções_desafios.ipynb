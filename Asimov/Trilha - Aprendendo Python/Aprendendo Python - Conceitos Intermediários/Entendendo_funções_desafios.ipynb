{
 "cells": [
  {
   "cell_type": "markdown",
   "id": "bb5ad861",
   "metadata": {},
   "source": [
    "DESAFIO - Entendendo funções"
   ]
  },
  {
   "cell_type": "markdown",
   "id": "65eecf47",
   "metadata": {},
   "source": [
    "Desafio 01\n",
    "\n",
    "Com base no for loop abaixo:\n",
    "\n",
    "valores = [1, 2, 3, 5, 10]\n",
    "quadrados_maiores_que_tres = []\n",
    "for valor in valores:\n",
    "    if valor > 3:\n",
    "    quadrado = valor ** 2\n",
    "    quadrados_maiores_que_tres.append(quadrado)\n",
    "print(quadrados_maiores_que_tres)\n",
    "# output: [25, 100]\n",
    "\n",
    "Crie uma compreensão de lista que gera a mesma lista quadrados_maiores_que_tres. Em\n",
    "seguida, use as funções map e filter para fazer a mesma coisa."
   ]
  },
  {
   "cell_type": "code",
   "execution_count": null,
   "id": "1ea7da76",
   "metadata": {},
   "outputs": [
    {
     "data": {
      "text/plain": [
       "[25, 100]"
      ]
     },
     "execution_count": 2,
     "metadata": {},
     "output_type": "execute_result"
    }
   ],
   "source": [
    "valores = [1, 2, 3, 5, 10]\n",
    "quadrados_maiores_que_tres = [valor ** 2 for valor in valores if valor > 3]\n",
    "quadrados_maiores_que_tres"
   ]
  },
  {
   "cell_type": "code",
   "execution_count": 7,
   "id": "23dc118c",
   "metadata": {},
   "outputs": [
    {
     "data": {
      "text/plain": [
       "[5, 10]"
      ]
     },
     "execution_count": 7,
     "metadata": {},
     "output_type": "execute_result"
    }
   ],
   "source": [
    "valores = [1, 2, 3, 5, 10]\n",
    "maiores_que_tres = list(filter(lambda valor: valor > 3, valores))\n",
    "maiores_que_tres"
   ]
  },
  {
   "cell_type": "code",
   "execution_count": null,
   "id": "1967c821",
   "metadata": {},
   "outputs": [
    {
     "data": {
      "text/plain": [
       "[25, 100]"
      ]
     },
     "execution_count": 8,
     "metadata": {},
     "output_type": "execute_result"
    }
   ],
   "source": [
    "maiores_que_tres_ao_quadrado = list(map(lambda valor: valor ** 2, maiores_que_tres))\n",
    "maiores_que_tres_ao_quadrado"
   ]
  },
  {
   "cell_type": "code",
   "execution_count": 10,
   "id": "6b5aa36d",
   "metadata": {},
   "outputs": [
    {
     "data": {
      "text/plain": [
       "[25, 100]"
      ]
     },
     "execution_count": 10,
     "metadata": {},
     "output_type": "execute_result"
    }
   ],
   "source": [
    "valores = [1, 2, 3, 5, 10]\n",
    "quadrados_maiores_que_tres = list(map(lambda valor: valor ** 2, filter(lambda valor: valor > 3, valores)))\n",
    "quadrados_maiores_que_tres"
   ]
  },
  {
   "cell_type": "markdown",
   "id": "9d2c309a",
   "metadata": {},
   "source": [
    "Desafio 02\n",
    "\n",
    "Crie uma função chamada multiplicar_por. O que esta função faz é retornar uma nova função\n",
    "f capaz de multiplicar um número qualquer pelo fator n passado à função multiplicar_por.\n",
    "Exemplo de uso:\n",
    "\n",
    "dobrar = multiplicar_por(2)\n",
    "print(dobrar(3))\n",
    "# output: 6\n",
    " \n",
    "print(dobrar(10))\n",
    "# output: 20\n",
    "\n",
    "vezes_cinco = multiplicar_por(5)\n",
    "print(vezes_cinco(3))\n",
    "# output: 15\n",
    "\n",
    "print(vezes_cinco(10))\n",
    "# output: 50"
   ]
  },
  {
   "cell_type": "code",
   "execution_count": 11,
   "id": "4074b2f7",
   "metadata": {},
   "outputs": [
    {
     "name": "stdout",
     "output_type": "stream",
     "text": [
      "6\n"
     ]
    }
   ],
   "source": [
    "def multiplicar_por(n):\n",
    " def f(x):\n",
    "    return x * n\n",
    " return f\n",
    "\n",
    "dobrar = multiplicar_por(2)\n",
    "print(dobrar(3))\n"
   ]
  }
 ],
 "metadata": {
  "kernelspec": {
   "display_name": "base",
   "language": "python",
   "name": "python3"
  },
  "language_info": {
   "codemirror_mode": {
    "name": "ipython",
    "version": 3
   },
   "file_extension": ".py",
   "mimetype": "text/x-python",
   "name": "python",
   "nbconvert_exporter": "python",
   "pygments_lexer": "ipython3",
   "version": "3.13.2"
  }
 },
 "nbformat": 4,
 "nbformat_minor": 5
}
